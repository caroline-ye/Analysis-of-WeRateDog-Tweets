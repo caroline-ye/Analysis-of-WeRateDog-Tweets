{
 "cells": [
  {
   "cell_type": "markdown",
   "metadata": {},
   "source": [
    "# Wrangle WeRateDog Twitter Data"
   ]
  },
  {
   "cell_type": "markdown",
   "metadata": {},
   "source": [
    "## Table of Contents\n",
    "- [Part I - Gather](#gather)\n",
    "- [Part II - Access](#access)\n",
    "- [Part III - Clean](#clean)\n",
    "- [Part IV - Analysis and Visulization](#analysis)"
   ]
  },
  {
   "cell_type": "markdown",
   "metadata": {},
   "source": [
    "<a id='gather'></a>\n",
    "## Gather\n",
    "- Manually download `twitter-archive-enhanced.csv` file and upload to the same directory of `wrangle_act.ipynb`\n",
    "- Download `image-predictions.tsv` file by `Requests` library\n",
    "- Generate `tweet-extended.csv` file containing extra information (retweet_count and favourites_count) of each tweet in `twitter-archive-enhanced.csv` file using `tweepy` library"
   ]
  },
  {
   "cell_type": "markdown",
   "metadata": {},
   "source": [
    "### Import Standard packages"
   ]
  },
  {
   "cell_type": "code",
   "execution_count": 4,
   "metadata": {},
   "outputs": [],
   "source": [
    "%matplotlib inline\n",
    "import pandas as pd\n",
    "import numpy as np\n",
    "import requests\n",
    "import json\n",
    "import matplotlib.pyplot as plt"
   ]
  },
  {
   "cell_type": "markdown",
   "metadata": {},
   "source": [
    "### Download image-predictions.tsv files"
   ]
  },
  {
   "cell_type": "code",
   "execution_count": 330,
   "metadata": {},
   "outputs": [],
   "source": [
    "###import third-party packages, if not exist, install it by `pip install tweepy`\n",
    "import tweepy"
   ]
  },
  {
   "cell_type": "code",
   "execution_count": null,
   "metadata": {},
   "outputs": [],
   "source": [
    "#twitter-archive-enhanced.csv has been uploaded to the notebook directory manually\n",
    "#image-predictions.tsv is downloaded by `Requests` library\n",
    "url = 'https://d17h27t6h515a5.cloudfront.net/topher/2017/August/599fd2ad_image-predictions/image-predictions.tsv'\n",
    "response = requests.get(url)\n",
    "filename = url.split('/')[-1]\n",
    "with open(filename, mode='wb') as f:\n",
    "    f.write(response.content)"
   ]
  },
  {
   "cell_type": "markdown",
   "metadata": {},
   "source": [
    "### Generate tweet-extended.csv file"
   ]
  },
  {
   "cell_type": "code",
   "execution_count": null,
   "metadata": {},
   "outputs": [],
   "source": [
    "#set up Twitter authentication and connect to Twitter's API\n",
    "consumer_key = 'consumer_key'\n",
    "consumer_secret = 'consumer_secret'\n",
    "access_token = 'access_token'\n",
    "access_secret = 'access_secret'\n",
    "\n",
    "auth = tweepy.OAuthHandler(consumer_key, consumer_secret)\n",
    "auth.set_access_token(access_token, access_secret)\n",
    "\n",
    "api = tweepy.API(auth, wait_on_rate_limit=True, wait_on_rate_limit_notify=True)"
   ]
  },
  {
   "cell_type": "code",
   "execution_count": null,
   "metadata": {},
   "outputs": [],
   "source": [
    "#define a function to write tweets to a txt file\n",
    "def get_tweet_text(idlist, filename):\n",
    "    '''\n",
    "    write content for a list of tweet IDs to a txt flie, one line per ID\n",
    "    `idlist`: a list of tweet IDs\n",
    "    `filename`: the name of txt file where text is stored\n",
    "    '''\n",
    "    f = open(filename, mode='w+')\n",
    "    deleted_id_count = 0\n",
    "    for tweet_id in idlist:\n",
    "        try:\n",
    "            tweet = api.get_status(tweet_id, tweet_mode='extended')\n",
    "            f.write((json.dumps(tweet._json)) + '\\n')\n",
    "            print(tweet_id)\n",
    "        except Exception as e:\n",
    "            deleted_id_count += 1\n",
    "            print(\"%d: %s\" %(tweet_id, e))\n",
    "        \n",
    "    print('%d Tweet ID could not be found.' %(deleted_id_count))\n",
    "    f.close()"
   ]
  },
  {
   "cell_type": "code",
   "execution_count": null,
   "metadata": {},
   "outputs": [],
   "source": [
    "#generate the list of tweet ID from twitter-archive-enhanced.csv\n",
    "twitter_archive = pd.read_csv('twitter-archive-enhanced.csv')\n",
    "idlist = twitter_archive.tweet_id\n",
    "\n",
    "#write tweets content to tweet-json.txt\n",
    "get_tweet_text(idlist, 'tweet-json.txt')"
   ]
  },
  {
   "cell_type": "code",
   "execution_count": null,
   "metadata": {},
   "outputs": [],
   "source": [
    "#read each line in tweet-json.txt and extract id, retweet_count, favourites_count of each tweet\n",
    "df_list = []\n",
    "f = open('tweet-json.txt', 'r')\n",
    "for x in f:\n",
    "    dic = json.loads(x)\n",
    "    tweet_id = dic['id']\n",
    "    retweet_count = dic['retweet_count']\n",
    "    fav_count = dic['favorite_count']\n",
    "    \n",
    "    df_list.append({'tweet_id': tweet_id,\n",
    "                    'retweet_count': retweet_count,\n",
    "                    'favorite_count': fav_count})\n",
    "\n",
    "f.close()\n",
    "\n",
    "#convert it to Panda DataFrame and save it to csv file\n",
    "df = pd.DataFrame(df_list, columns = ['tweet_id', 'retweet_count', 'favorite_count'])\n",
    "df.to_csv('tweet-extended.csv', index=False)"
   ]
  },
  {
   "cell_type": "markdown",
   "metadata": {},
   "source": [
    "<a id='access'></a>\n",
    "## Access"
   ]
  },
  {
   "cell_type": "code",
   "execution_count": 5,
   "metadata": {},
   "outputs": [],
   "source": [
    "extended = pd.read_csv('tweet-extended.csv')\n",
    "archive = pd.read_csv('twitter-archive-enhanced.csv')\n",
    "image = pd.read_csv('image-predictions.tsv', sep='\\t')"
   ]
  },
  {
   "cell_type": "code",
   "execution_count": 6,
   "metadata": {},
   "outputs": [
    {
     "name": "stdout",
     "output_type": "stream",
     "text": [
      "(2337, 3) (2356, 17) (2075, 12)\n"
     ]
    }
   ],
   "source": [
    "print(extended.shape, archive.shape, image.shape)"
   ]
  },
  {
   "cell_type": "markdown",
   "metadata": {},
   "source": [
    "<span style=\"color:blue\">*Some tweets are missing in `extended` and `image` table.*"
   ]
  },
  {
   "cell_type": "code",
   "execution_count": 7,
   "metadata": {},
   "outputs": [
    {
     "name": "stdout",
     "output_type": "stream",
     "text": [
      "['tweet_id', 'retweet_count', 'favorite_count']\n",
      "['tweet_id', 'in_reply_to_status_id', 'in_reply_to_user_id', 'timestamp', 'source', 'text', 'retweeted_status_id', 'retweeted_status_user_id', 'retweeted_status_timestamp', 'expanded_urls', 'rating_numerator', 'rating_denominator', 'name', 'doggo', 'floofer', 'pupper', 'puppo']\n",
      "['tweet_id', 'jpg_url', 'img_num', 'p1', 'p1_conf', 'p1_dog', 'p2', 'p2_conf', 'p2_dog', 'p3', 'p3_conf', 'p3_dog']\n"
     ]
    }
   ],
   "source": [
    "#column information\n",
    "print(list(extended))\n",
    "print(list(archive))\n",
    "print(list(image))"
   ]
  },
  {
   "cell_type": "markdown",
   "metadata": {},
   "source": [
    "### Access table `extended` "
   ]
  },
  {
   "cell_type": "code",
   "execution_count": 8,
   "metadata": {},
   "outputs": [
    {
     "data": {
      "text/html": [
       "<div>\n",
       "<style scoped>\n",
       "    .dataframe tbody tr th:only-of-type {\n",
       "        vertical-align: middle;\n",
       "    }\n",
       "\n",
       "    .dataframe tbody tr th {\n",
       "        vertical-align: top;\n",
       "    }\n",
       "\n",
       "    .dataframe thead th {\n",
       "        text-align: right;\n",
       "    }\n",
       "</style>\n",
       "<table border=\"1\" class=\"dataframe\">\n",
       "  <thead>\n",
       "    <tr style=\"text-align: right;\">\n",
       "      <th></th>\n",
       "      <th>tweet_id</th>\n",
       "      <th>retweet_count</th>\n",
       "      <th>favorite_count</th>\n",
       "    </tr>\n",
       "  </thead>\n",
       "  <tbody>\n",
       "    <tr>\n",
       "      <th>0</th>\n",
       "      <td>892420643555336193</td>\n",
       "      <td>8188</td>\n",
       "      <td>37530</td>\n",
       "    </tr>\n",
       "    <tr>\n",
       "      <th>1</th>\n",
       "      <td>892177421306343426</td>\n",
       "      <td>6057</td>\n",
       "      <td>32256</td>\n",
       "    </tr>\n",
       "    <tr>\n",
       "      <th>2</th>\n",
       "      <td>891815181378084864</td>\n",
       "      <td>4007</td>\n",
       "      <td>24301</td>\n",
       "    </tr>\n",
       "    <tr>\n",
       "      <th>3</th>\n",
       "      <td>891689557279858688</td>\n",
       "      <td>8339</td>\n",
       "      <td>40869</td>\n",
       "    </tr>\n",
       "    <tr>\n",
       "      <th>4</th>\n",
       "      <td>891327558926688256</td>\n",
       "      <td>9033</td>\n",
       "      <td>39065</td>\n",
       "    </tr>\n",
       "  </tbody>\n",
       "</table>\n",
       "</div>"
      ],
      "text/plain": [
       "             tweet_id  retweet_count  favorite_count\n",
       "0  892420643555336193           8188           37530\n",
       "1  892177421306343426           6057           32256\n",
       "2  891815181378084864           4007           24301\n",
       "3  891689557279858688           8339           40869\n",
       "4  891327558926688256           9033           39065"
      ]
     },
     "execution_count": 8,
     "metadata": {},
     "output_type": "execute_result"
    }
   ],
   "source": [
    "#overveiw of the table\n",
    "extended.head()"
   ]
  },
  {
   "cell_type": "code",
   "execution_count": 9,
   "metadata": {
    "scrolled": true
   },
   "outputs": [
    {
     "name": "stdout",
     "output_type": "stream",
     "text": [
      "<class 'pandas.core.frame.DataFrame'>\n",
      "RangeIndex: 2337 entries, 0 to 2336\n",
      "Data columns (total 3 columns):\n",
      "tweet_id          2337 non-null int64\n",
      "retweet_count     2337 non-null int64\n",
      "favorite_count    2337 non-null int64\n",
      "dtypes: int64(3)\n",
      "memory usage: 54.9 KB\n"
     ]
    }
   ],
   "source": [
    "#Any null value?\n",
    "extended.info()"
   ]
  },
  {
   "cell_type": "code",
   "execution_count": 10,
   "metadata": {},
   "outputs": [
    {
     "data": {
      "text/html": [
       "<div>\n",
       "<style scoped>\n",
       "    .dataframe tbody tr th:only-of-type {\n",
       "        vertical-align: middle;\n",
       "    }\n",
       "\n",
       "    .dataframe tbody tr th {\n",
       "        vertical-align: top;\n",
       "    }\n",
       "\n",
       "    .dataframe thead th {\n",
       "        text-align: right;\n",
       "    }\n",
       "</style>\n",
       "<table border=\"1\" class=\"dataframe\">\n",
       "  <thead>\n",
       "    <tr style=\"text-align: right;\">\n",
       "      <th></th>\n",
       "      <th>tweet_id</th>\n",
       "      <th>retweet_count</th>\n",
       "      <th>favorite_count</th>\n",
       "    </tr>\n",
       "  </thead>\n",
       "  <tbody>\n",
       "    <tr>\n",
       "      <th>count</th>\n",
       "      <td>2.337000e+03</td>\n",
       "      <td>2337.000000</td>\n",
       "      <td>2337.000000</td>\n",
       "    </tr>\n",
       "    <tr>\n",
       "      <th>mean</th>\n",
       "      <td>7.420692e+17</td>\n",
       "      <td>2876.821138</td>\n",
       "      <td>7841.225075</td>\n",
       "    </tr>\n",
       "    <tr>\n",
       "      <th>std</th>\n",
       "      <td>6.824243e+16</td>\n",
       "      <td>4859.790100</td>\n",
       "      <td>12153.273610</td>\n",
       "    </tr>\n",
       "    <tr>\n",
       "      <th>min</th>\n",
       "      <td>6.660209e+17</td>\n",
       "      <td>1.000000</td>\n",
       "      <td>0.000000</td>\n",
       "    </tr>\n",
       "    <tr>\n",
       "      <th>25%</th>\n",
       "      <td>6.783345e+17</td>\n",
       "      <td>580.000000</td>\n",
       "      <td>1363.000000</td>\n",
       "    </tr>\n",
       "    <tr>\n",
       "      <th>50%</th>\n",
       "      <td>7.185406e+17</td>\n",
       "      <td>1344.000000</td>\n",
       "      <td>3421.000000</td>\n",
       "    </tr>\n",
       "    <tr>\n",
       "      <th>75%</th>\n",
       "      <td>7.986825e+17</td>\n",
       "      <td>3355.000000</td>\n",
       "      <td>9606.000000</td>\n",
       "    </tr>\n",
       "    <tr>\n",
       "      <th>max</th>\n",
       "      <td>8.924206e+17</td>\n",
       "      <td>82426.000000</td>\n",
       "      <td>162077.000000</td>\n",
       "    </tr>\n",
       "  </tbody>\n",
       "</table>\n",
       "</div>"
      ],
      "text/plain": [
       "           tweet_id  retweet_count  favorite_count\n",
       "count  2.337000e+03    2337.000000     2337.000000\n",
       "mean   7.420692e+17    2876.821138     7841.225075\n",
       "std    6.824243e+16    4859.790100    12153.273610\n",
       "min    6.660209e+17       1.000000        0.000000\n",
       "25%    6.783345e+17     580.000000     1363.000000\n",
       "50%    7.185406e+17    1344.000000     3421.000000\n",
       "75%    7.986825e+17    3355.000000     9606.000000\n",
       "max    8.924206e+17   82426.000000   162077.000000"
      ]
     },
     "execution_count": 10,
     "metadata": {},
     "output_type": "execute_result"
    }
   ],
   "source": [
    "#any value is out of expect?\n",
    "extended.describe()"
   ]
  },
  {
   "cell_type": "code",
   "execution_count": 11,
   "metadata": {},
   "outputs": [
    {
     "data": {
      "text/plain": [
       "0"
      ]
     },
     "execution_count": 11,
     "metadata": {},
     "output_type": "execute_result"
    }
   ],
   "source": [
    "#any duplicated value?\n",
    "extended.tweet_id.duplicated().sum()"
   ]
  },
  {
   "cell_type": "markdown",
   "metadata": {},
   "source": [
    "### Access table `archive`"
   ]
  },
  {
   "cell_type": "code",
   "execution_count": 12,
   "metadata": {
    "scrolled": false
   },
   "outputs": [
    {
     "data": {
      "text/html": [
       "<div>\n",
       "<style scoped>\n",
       "    .dataframe tbody tr th:only-of-type {\n",
       "        vertical-align: middle;\n",
       "    }\n",
       "\n",
       "    .dataframe tbody tr th {\n",
       "        vertical-align: top;\n",
       "    }\n",
       "\n",
       "    .dataframe thead th {\n",
       "        text-align: right;\n",
       "    }\n",
       "</style>\n",
       "<table border=\"1\" class=\"dataframe\">\n",
       "  <thead>\n",
       "    <tr style=\"text-align: right;\">\n",
       "      <th></th>\n",
       "      <th>tweet_id</th>\n",
       "      <th>in_reply_to_status_id</th>\n",
       "      <th>in_reply_to_user_id</th>\n",
       "      <th>timestamp</th>\n",
       "      <th>source</th>\n",
       "      <th>text</th>\n",
       "      <th>retweeted_status_id</th>\n",
       "      <th>retweeted_status_user_id</th>\n",
       "      <th>retweeted_status_timestamp</th>\n",
       "      <th>expanded_urls</th>\n",
       "      <th>rating_numerator</th>\n",
       "      <th>rating_denominator</th>\n",
       "      <th>name</th>\n",
       "      <th>doggo</th>\n",
       "      <th>floofer</th>\n",
       "      <th>pupper</th>\n",
       "      <th>puppo</th>\n",
       "    </tr>\n",
       "  </thead>\n",
       "  <tbody>\n",
       "    <tr>\n",
       "      <th>0</th>\n",
       "      <td>892420643555336193</td>\n",
       "      <td>NaN</td>\n",
       "      <td>NaN</td>\n",
       "      <td>2017-08-01 16:23:56 +0000</td>\n",
       "      <td>&lt;a href=\"http://twitter.com/download/iphone\" r...</td>\n",
       "      <td>This is Phineas. He's a mystical boy. Only eve...</td>\n",
       "      <td>NaN</td>\n",
       "      <td>NaN</td>\n",
       "      <td>NaN</td>\n",
       "      <td>https://twitter.com/dog_rates/status/892420643...</td>\n",
       "      <td>13</td>\n",
       "      <td>10</td>\n",
       "      <td>Phineas</td>\n",
       "      <td>None</td>\n",
       "      <td>None</td>\n",
       "      <td>None</td>\n",
       "      <td>None</td>\n",
       "    </tr>\n",
       "    <tr>\n",
       "      <th>1</th>\n",
       "      <td>892177421306343426</td>\n",
       "      <td>NaN</td>\n",
       "      <td>NaN</td>\n",
       "      <td>2017-08-01 00:17:27 +0000</td>\n",
       "      <td>&lt;a href=\"http://twitter.com/download/iphone\" r...</td>\n",
       "      <td>This is Tilly. She's just checking pup on you....</td>\n",
       "      <td>NaN</td>\n",
       "      <td>NaN</td>\n",
       "      <td>NaN</td>\n",
       "      <td>https://twitter.com/dog_rates/status/892177421...</td>\n",
       "      <td>13</td>\n",
       "      <td>10</td>\n",
       "      <td>Tilly</td>\n",
       "      <td>None</td>\n",
       "      <td>None</td>\n",
       "      <td>None</td>\n",
       "      <td>None</td>\n",
       "    </tr>\n",
       "    <tr>\n",
       "      <th>2</th>\n",
       "      <td>891815181378084864</td>\n",
       "      <td>NaN</td>\n",
       "      <td>NaN</td>\n",
       "      <td>2017-07-31 00:18:03 +0000</td>\n",
       "      <td>&lt;a href=\"http://twitter.com/download/iphone\" r...</td>\n",
       "      <td>This is Archie. He is a rare Norwegian Pouncin...</td>\n",
       "      <td>NaN</td>\n",
       "      <td>NaN</td>\n",
       "      <td>NaN</td>\n",
       "      <td>https://twitter.com/dog_rates/status/891815181...</td>\n",
       "      <td>12</td>\n",
       "      <td>10</td>\n",
       "      <td>Archie</td>\n",
       "      <td>None</td>\n",
       "      <td>None</td>\n",
       "      <td>None</td>\n",
       "      <td>None</td>\n",
       "    </tr>\n",
       "    <tr>\n",
       "      <th>3</th>\n",
       "      <td>891689557279858688</td>\n",
       "      <td>NaN</td>\n",
       "      <td>NaN</td>\n",
       "      <td>2017-07-30 15:58:51 +0000</td>\n",
       "      <td>&lt;a href=\"http://twitter.com/download/iphone\" r...</td>\n",
       "      <td>This is Darla. She commenced a snooze mid meal...</td>\n",
       "      <td>NaN</td>\n",
       "      <td>NaN</td>\n",
       "      <td>NaN</td>\n",
       "      <td>https://twitter.com/dog_rates/status/891689557...</td>\n",
       "      <td>13</td>\n",
       "      <td>10</td>\n",
       "      <td>Darla</td>\n",
       "      <td>None</td>\n",
       "      <td>None</td>\n",
       "      <td>None</td>\n",
       "      <td>None</td>\n",
       "    </tr>\n",
       "    <tr>\n",
       "      <th>4</th>\n",
       "      <td>891327558926688256</td>\n",
       "      <td>NaN</td>\n",
       "      <td>NaN</td>\n",
       "      <td>2017-07-29 16:00:24 +0000</td>\n",
       "      <td>&lt;a href=\"http://twitter.com/download/iphone\" r...</td>\n",
       "      <td>This is Franklin. He would like you to stop ca...</td>\n",
       "      <td>NaN</td>\n",
       "      <td>NaN</td>\n",
       "      <td>NaN</td>\n",
       "      <td>https://twitter.com/dog_rates/status/891327558...</td>\n",
       "      <td>12</td>\n",
       "      <td>10</td>\n",
       "      <td>Franklin</td>\n",
       "      <td>None</td>\n",
       "      <td>None</td>\n",
       "      <td>None</td>\n",
       "      <td>None</td>\n",
       "    </tr>\n",
       "  </tbody>\n",
       "</table>\n",
       "</div>"
      ],
      "text/plain": [
       "             tweet_id  in_reply_to_status_id  in_reply_to_user_id  \\\n",
       "0  892420643555336193                    NaN                  NaN   \n",
       "1  892177421306343426                    NaN                  NaN   \n",
       "2  891815181378084864                    NaN                  NaN   \n",
       "3  891689557279858688                    NaN                  NaN   \n",
       "4  891327558926688256                    NaN                  NaN   \n",
       "\n",
       "                   timestamp  \\\n",
       "0  2017-08-01 16:23:56 +0000   \n",
       "1  2017-08-01 00:17:27 +0000   \n",
       "2  2017-07-31 00:18:03 +0000   \n",
       "3  2017-07-30 15:58:51 +0000   \n",
       "4  2017-07-29 16:00:24 +0000   \n",
       "\n",
       "                                              source  \\\n",
       "0  <a href=\"http://twitter.com/download/iphone\" r...   \n",
       "1  <a href=\"http://twitter.com/download/iphone\" r...   \n",
       "2  <a href=\"http://twitter.com/download/iphone\" r...   \n",
       "3  <a href=\"http://twitter.com/download/iphone\" r...   \n",
       "4  <a href=\"http://twitter.com/download/iphone\" r...   \n",
       "\n",
       "                                                text  retweeted_status_id  \\\n",
       "0  This is Phineas. He's a mystical boy. Only eve...                  NaN   \n",
       "1  This is Tilly. She's just checking pup on you....                  NaN   \n",
       "2  This is Archie. He is a rare Norwegian Pouncin...                  NaN   \n",
       "3  This is Darla. She commenced a snooze mid meal...                  NaN   \n",
       "4  This is Franklin. He would like you to stop ca...                  NaN   \n",
       "\n",
       "   retweeted_status_user_id retweeted_status_timestamp  \\\n",
       "0                       NaN                        NaN   \n",
       "1                       NaN                        NaN   \n",
       "2                       NaN                        NaN   \n",
       "3                       NaN                        NaN   \n",
       "4                       NaN                        NaN   \n",
       "\n",
       "                                       expanded_urls  rating_numerator  \\\n",
       "0  https://twitter.com/dog_rates/status/892420643...                13   \n",
       "1  https://twitter.com/dog_rates/status/892177421...                13   \n",
       "2  https://twitter.com/dog_rates/status/891815181...                12   \n",
       "3  https://twitter.com/dog_rates/status/891689557...                13   \n",
       "4  https://twitter.com/dog_rates/status/891327558...                12   \n",
       "\n",
       "   rating_denominator      name doggo floofer pupper puppo  \n",
       "0                  10   Phineas  None    None   None  None  \n",
       "1                  10     Tilly  None    None   None  None  \n",
       "2                  10    Archie  None    None   None  None  \n",
       "3                  10     Darla  None    None   None  None  \n",
       "4                  10  Franklin  None    None   None  None  "
      ]
     },
     "execution_count": 12,
     "metadata": {},
     "output_type": "execute_result"
    }
   ],
   "source": [
    "#overview of the table\n",
    "archive.head()"
   ]
  },
  {
   "cell_type": "code",
   "execution_count": 13,
   "metadata": {},
   "outputs": [
    {
     "data": {
      "text/plain": [
       "0"
      ]
     },
     "execution_count": 13,
     "metadata": {},
     "output_type": "execute_result"
    }
   ],
   "source": [
    "#Any duplicated value?\n",
    "archive.tweet_id.duplicated().sum()"
   ]
  },
  {
   "cell_type": "code",
   "execution_count": 14,
   "metadata": {
    "scrolled": true
   },
   "outputs": [
    {
     "name": "stdout",
     "output_type": "stream",
     "text": [
      "<class 'pandas.core.frame.DataFrame'>\n",
      "RangeIndex: 2356 entries, 0 to 2355\n",
      "Data columns (total 17 columns):\n",
      "tweet_id                      2356 non-null int64\n",
      "in_reply_to_status_id         78 non-null float64\n",
      "in_reply_to_user_id           78 non-null float64\n",
      "timestamp                     2356 non-null object\n",
      "source                        2356 non-null object\n",
      "text                          2356 non-null object\n",
      "retweeted_status_id           181 non-null float64\n",
      "retweeted_status_user_id      181 non-null float64\n",
      "retweeted_status_timestamp    181 non-null object\n",
      "expanded_urls                 2297 non-null object\n",
      "rating_numerator              2356 non-null int64\n",
      "rating_denominator            2356 non-null int64\n",
      "name                          2356 non-null object\n",
      "doggo                         2356 non-null object\n",
      "floofer                       2356 non-null object\n",
      "pupper                        2356 non-null object\n",
      "puppo                         2356 non-null object\n",
      "dtypes: float64(4), int64(3), object(10)\n",
      "memory usage: 313.0+ KB\n"
     ]
    }
   ],
   "source": [
    "#Any null value? appropriate data type?\n",
    "archive.info()"
   ]
  },
  {
   "cell_type": "markdown",
   "metadata": {},
   "source": [
    "- <span style=\"color:blue\">*`archive` table contains 181 retweets.*</span>\n",
    "- <span style=\"color:blue\">*columns related to retweets are not necessary in the table: retweeted_status_id, retweeted_status_user_id, retweeted_status_timestamp*</span>\n",
    "- <span style=\"color:blue\">*column in_reply_to_status_id, in_reply_to_user_id are also irrelevant*</span>\n",
    "- <span style=\"color:blue\">*timestamp should be in datetime format*</span>\n",
    "- <span style=\"color:blue\">*doggo, floofer, pupper, and puppo should be in one categorical column*</span>"
   ]
  },
  {
   "cell_type": "code",
   "execution_count": 15,
   "metadata": {
    "scrolled": true
   },
   "outputs": [
    {
     "data": {
      "text/html": [
       "<div>\n",
       "<style scoped>\n",
       "    .dataframe tbody tr th:only-of-type {\n",
       "        vertical-align: middle;\n",
       "    }\n",
       "\n",
       "    .dataframe tbody tr th {\n",
       "        vertical-align: top;\n",
       "    }\n",
       "\n",
       "    .dataframe thead th {\n",
       "        text-align: right;\n",
       "    }\n",
       "</style>\n",
       "<table border=\"1\" class=\"dataframe\">\n",
       "  <thead>\n",
       "    <tr style=\"text-align: right;\">\n",
       "      <th></th>\n",
       "      <th>tweet_id</th>\n",
       "      <th>in_reply_to_status_id</th>\n",
       "      <th>in_reply_to_user_id</th>\n",
       "      <th>retweeted_status_id</th>\n",
       "      <th>retweeted_status_user_id</th>\n",
       "      <th>rating_numerator</th>\n",
       "      <th>rating_denominator</th>\n",
       "    </tr>\n",
       "  </thead>\n",
       "  <tbody>\n",
       "    <tr>\n",
       "      <th>count</th>\n",
       "      <td>2.356000e+03</td>\n",
       "      <td>7.800000e+01</td>\n",
       "      <td>7.800000e+01</td>\n",
       "      <td>1.810000e+02</td>\n",
       "      <td>1.810000e+02</td>\n",
       "      <td>2356.000000</td>\n",
       "      <td>2356.000000</td>\n",
       "    </tr>\n",
       "    <tr>\n",
       "      <th>mean</th>\n",
       "      <td>7.427716e+17</td>\n",
       "      <td>7.455079e+17</td>\n",
       "      <td>2.014171e+16</td>\n",
       "      <td>7.720400e+17</td>\n",
       "      <td>1.241698e+16</td>\n",
       "      <td>13.126486</td>\n",
       "      <td>10.455433</td>\n",
       "    </tr>\n",
       "    <tr>\n",
       "      <th>std</th>\n",
       "      <td>6.856705e+16</td>\n",
       "      <td>7.582492e+16</td>\n",
       "      <td>1.252797e+17</td>\n",
       "      <td>6.236928e+16</td>\n",
       "      <td>9.599254e+16</td>\n",
       "      <td>45.876648</td>\n",
       "      <td>6.745237</td>\n",
       "    </tr>\n",
       "    <tr>\n",
       "      <th>min</th>\n",
       "      <td>6.660209e+17</td>\n",
       "      <td>6.658147e+17</td>\n",
       "      <td>1.185634e+07</td>\n",
       "      <td>6.661041e+17</td>\n",
       "      <td>7.832140e+05</td>\n",
       "      <td>0.000000</td>\n",
       "      <td>0.000000</td>\n",
       "    </tr>\n",
       "    <tr>\n",
       "      <th>25%</th>\n",
       "      <td>6.783989e+17</td>\n",
       "      <td>6.757419e+17</td>\n",
       "      <td>3.086374e+08</td>\n",
       "      <td>7.186315e+17</td>\n",
       "      <td>4.196984e+09</td>\n",
       "      <td>10.000000</td>\n",
       "      <td>10.000000</td>\n",
       "    </tr>\n",
       "    <tr>\n",
       "      <th>50%</th>\n",
       "      <td>7.196279e+17</td>\n",
       "      <td>7.038708e+17</td>\n",
       "      <td>4.196984e+09</td>\n",
       "      <td>7.804657e+17</td>\n",
       "      <td>4.196984e+09</td>\n",
       "      <td>11.000000</td>\n",
       "      <td>10.000000</td>\n",
       "    </tr>\n",
       "    <tr>\n",
       "      <th>75%</th>\n",
       "      <td>7.993373e+17</td>\n",
       "      <td>8.257804e+17</td>\n",
       "      <td>4.196984e+09</td>\n",
       "      <td>8.203146e+17</td>\n",
       "      <td>4.196984e+09</td>\n",
       "      <td>12.000000</td>\n",
       "      <td>10.000000</td>\n",
       "    </tr>\n",
       "    <tr>\n",
       "      <th>max</th>\n",
       "      <td>8.924206e+17</td>\n",
       "      <td>8.862664e+17</td>\n",
       "      <td>8.405479e+17</td>\n",
       "      <td>8.874740e+17</td>\n",
       "      <td>7.874618e+17</td>\n",
       "      <td>1776.000000</td>\n",
       "      <td>170.000000</td>\n",
       "    </tr>\n",
       "  </tbody>\n",
       "</table>\n",
       "</div>"
      ],
      "text/plain": [
       "           tweet_id  in_reply_to_status_id  in_reply_to_user_id  \\\n",
       "count  2.356000e+03           7.800000e+01         7.800000e+01   \n",
       "mean   7.427716e+17           7.455079e+17         2.014171e+16   \n",
       "std    6.856705e+16           7.582492e+16         1.252797e+17   \n",
       "min    6.660209e+17           6.658147e+17         1.185634e+07   \n",
       "25%    6.783989e+17           6.757419e+17         3.086374e+08   \n",
       "50%    7.196279e+17           7.038708e+17         4.196984e+09   \n",
       "75%    7.993373e+17           8.257804e+17         4.196984e+09   \n",
       "max    8.924206e+17           8.862664e+17         8.405479e+17   \n",
       "\n",
       "       retweeted_status_id  retweeted_status_user_id  rating_numerator  \\\n",
       "count         1.810000e+02              1.810000e+02       2356.000000   \n",
       "mean          7.720400e+17              1.241698e+16         13.126486   \n",
       "std           6.236928e+16              9.599254e+16         45.876648   \n",
       "min           6.661041e+17              7.832140e+05          0.000000   \n",
       "25%           7.186315e+17              4.196984e+09         10.000000   \n",
       "50%           7.804657e+17              4.196984e+09         11.000000   \n",
       "75%           8.203146e+17              4.196984e+09         12.000000   \n",
       "max           8.874740e+17              7.874618e+17       1776.000000   \n",
       "\n",
       "       rating_denominator  \n",
       "count         2356.000000  \n",
       "mean            10.455433  \n",
       "std              6.745237  \n",
       "min              0.000000  \n",
       "25%             10.000000  \n",
       "50%             10.000000  \n",
       "75%             10.000000  \n",
       "max            170.000000  "
      ]
     },
     "execution_count": 15,
     "metadata": {},
     "output_type": "execute_result"
    }
   ],
   "source": [
    "#Any unexpected value?\n",
    "archive.describe()"
   ]
  },
  {
   "cell_type": "code",
   "execution_count": 16,
   "metadata": {
    "scrolled": true
   },
   "outputs": [
    {
     "data": {
      "text/plain": [
       "23"
      ]
     },
     "execution_count": 16,
     "metadata": {},
     "output_type": "execute_result"
    }
   ],
   "source": [
    "archive[archive.rating_denominator != 10].tweet_id.count()"
   ]
  },
  {
   "cell_type": "markdown",
   "metadata": {},
   "source": [
    "<span style=\"color:blue\">*The denominator for most rows is 10. There are 23 rows whose denominator is not 10.*</span>"
   ]
  },
  {
   "cell_type": "code",
   "execution_count": 17,
   "metadata": {
    "scrolled": true
   },
   "outputs": [
    {
     "data": {
      "text/plain": [
       "315        0\n",
       "1016       0\n",
       "2335       1\n",
       "2261       1\n",
       "2338       1\n",
       "605        1\n",
       "1446       1\n",
       "1869       1\n",
       "2091       1\n",
       "2038       1\n",
       "1940       1\n",
       "1764       2\n",
       "2310       2\n",
       "1761       2\n",
       "1920       2\n",
       "2246       2\n",
       "2237       2\n",
       "2349       2\n",
       "2326       2\n",
       "2079       2\n",
       "2305       3\n",
       "1249       3\n",
       "1898       3\n",
       "1478       3\n",
       "1692       3\n",
       "2202       3\n",
       "765        3\n",
       "1928       3\n",
       "1314       3\n",
       "2183       3\n",
       "        ... \n",
       "866       14\n",
       "83        14\n",
       "291       15\n",
       "285       15\n",
       "55        17\n",
       "1663      20\n",
       "516       24\n",
       "1712      26\n",
       "763       27\n",
       "1433      44\n",
       "1274      45\n",
       "1202      50\n",
       "1351      60\n",
       "340       75\n",
       "695       75\n",
       "1254      80\n",
       "433       84\n",
       "1843      88\n",
       "1228      99\n",
       "1635     121\n",
       "1634     143\n",
       "1779     144\n",
       "902      165\n",
       "290      182\n",
       "1120     204\n",
       "2074     420\n",
       "188      420\n",
       "189      666\n",
       "313      960\n",
       "979     1776\n",
       "Name: rating_numerator, Length: 2356, dtype: int64"
      ]
     },
     "execution_count": 17,
     "metadata": {},
     "output_type": "execute_result"
    }
   ],
   "source": [
    "archive.rating_numerator.sort_values()"
   ]
  },
  {
   "cell_type": "code",
   "execution_count": 18,
   "metadata": {
    "scrolled": false
   },
   "outputs": [
    {
     "data": {
      "text/plain": [
       "24"
      ]
     },
     "execution_count": 18,
     "metadata": {},
     "output_type": "execute_result"
    }
   ],
   "source": [
    "archive[archive.rating_numerator > 20].rating_numerator.count()"
   ]
  },
  {
   "cell_type": "code",
   "execution_count": 19,
   "metadata": {},
   "outputs": [
    {
     "data": {
      "text/plain": [
       "20"
      ]
     },
     "execution_count": 19,
     "metadata": {},
     "output_type": "execute_result"
    }
   ],
   "source": [
    "archive[archive.rating_numerator < 3].rating_numerator.count()"
   ]
  },
  {
   "cell_type": "markdown",
   "metadata": {},
   "source": [
    "<span style=\"color:blue\">*Some rows contain very high or very low numerators.*</span>"
   ]
  },
  {
   "cell_type": "code",
   "execution_count": 20,
   "metadata": {},
   "outputs": [
    {
     "data": {
      "text/plain": [
       "None     2259\n",
       "doggo      97\n",
       "Name: doggo, dtype: int64"
      ]
     },
     "execution_count": 20,
     "metadata": {},
     "output_type": "execute_result"
    }
   ],
   "source": [
    "archive.doggo.value_counts()"
   ]
  },
  {
   "cell_type": "code",
   "execution_count": 21,
   "metadata": {},
   "outputs": [
    {
     "data": {
      "text/plain": [
       "None       2346\n",
       "floofer      10\n",
       "Name: floofer, dtype: int64"
      ]
     },
     "execution_count": 21,
     "metadata": {},
     "output_type": "execute_result"
    }
   ],
   "source": [
    "archive.floofer.value_counts()"
   ]
  },
  {
   "cell_type": "code",
   "execution_count": 22,
   "metadata": {},
   "outputs": [
    {
     "data": {
      "text/plain": [
       "None      2099\n",
       "pupper     257\n",
       "Name: pupper, dtype: int64"
      ]
     },
     "execution_count": 22,
     "metadata": {},
     "output_type": "execute_result"
    }
   ],
   "source": [
    "archive.pupper.value_counts()"
   ]
  },
  {
   "cell_type": "code",
   "execution_count": 23,
   "metadata": {},
   "outputs": [
    {
     "data": {
      "text/plain": [
       "None     2326\n",
       "puppo      30\n",
       "Name: puppo, dtype: int64"
      ]
     },
     "execution_count": 23,
     "metadata": {},
     "output_type": "execute_result"
    }
   ],
   "source": [
    "archive.puppo.value_counts()"
   ]
  },
  {
   "cell_type": "markdown",
   "metadata": {},
   "source": [
    "<span style=\"color:blue\">*Some rows may contain two stages information.*</span>"
   ]
  },
  {
   "cell_type": "markdown",
   "metadata": {},
   "source": [
    "### access Table `image_predictions`"
   ]
  },
  {
   "cell_type": "code",
   "execution_count": 24,
   "metadata": {
    "scrolled": true
   },
   "outputs": [
    {
     "data": {
      "text/html": [
       "<div>\n",
       "<style scoped>\n",
       "    .dataframe tbody tr th:only-of-type {\n",
       "        vertical-align: middle;\n",
       "    }\n",
       "\n",
       "    .dataframe tbody tr th {\n",
       "        vertical-align: top;\n",
       "    }\n",
       "\n",
       "    .dataframe thead th {\n",
       "        text-align: right;\n",
       "    }\n",
       "</style>\n",
       "<table border=\"1\" class=\"dataframe\">\n",
       "  <thead>\n",
       "    <tr style=\"text-align: right;\">\n",
       "      <th></th>\n",
       "      <th>tweet_id</th>\n",
       "      <th>jpg_url</th>\n",
       "      <th>img_num</th>\n",
       "      <th>p1</th>\n",
       "      <th>p1_conf</th>\n",
       "      <th>p1_dog</th>\n",
       "      <th>p2</th>\n",
       "      <th>p2_conf</th>\n",
       "      <th>p2_dog</th>\n",
       "      <th>p3</th>\n",
       "      <th>p3_conf</th>\n",
       "      <th>p3_dog</th>\n",
       "    </tr>\n",
       "  </thead>\n",
       "  <tbody>\n",
       "    <tr>\n",
       "      <th>2037</th>\n",
       "      <td>884562892145688576</td>\n",
       "      <td>https://pbs.twimg.com/media/DEaZQkfXUAEC7qB.jpg</td>\n",
       "      <td>1</td>\n",
       "      <td>pug</td>\n",
       "      <td>0.546406</td>\n",
       "      <td>True</td>\n",
       "      <td>French_bulldog</td>\n",
       "      <td>0.404291</td>\n",
       "      <td>True</td>\n",
       "      <td>Brabancon_griffon</td>\n",
       "      <td>0.044002</td>\n",
       "      <td>True</td>\n",
       "    </tr>\n",
       "    <tr>\n",
       "      <th>642</th>\n",
       "      <td>681339448655802368</td>\n",
       "      <td>https://pbs.twimg.com/media/CXSanNkWkAAqR9M.jpg</td>\n",
       "      <td>1</td>\n",
       "      <td>seat_belt</td>\n",
       "      <td>0.532441</td>\n",
       "      <td>False</td>\n",
       "      <td>Labrador_retriever</td>\n",
       "      <td>0.094615</td>\n",
       "      <td>True</td>\n",
       "      <td>kuvasz</td>\n",
       "      <td>0.089863</td>\n",
       "      <td>True</td>\n",
       "    </tr>\n",
       "    <tr>\n",
       "      <th>481</th>\n",
       "      <td>675362609739206656</td>\n",
       "      <td>https://pbs.twimg.com/media/CV9etctWUAAl5Hp.jpg</td>\n",
       "      <td>1</td>\n",
       "      <td>Labrador_retriever</td>\n",
       "      <td>0.479008</td>\n",
       "      <td>True</td>\n",
       "      <td>ice_bear</td>\n",
       "      <td>0.218289</td>\n",
       "      <td>False</td>\n",
       "      <td>kuvasz</td>\n",
       "      <td>0.139911</td>\n",
       "      <td>True</td>\n",
       "    </tr>\n",
       "    <tr>\n",
       "      <th>1371</th>\n",
       "      <td>762316489655476224</td>\n",
       "      <td>https://pbs.twimg.com/media/CpRKzZKWAAABGh7.jpg</td>\n",
       "      <td>1</td>\n",
       "      <td>African_grey</td>\n",
       "      <td>0.270468</td>\n",
       "      <td>False</td>\n",
       "      <td>Madagascar_cat</td>\n",
       "      <td>0.076187</td>\n",
       "      <td>False</td>\n",
       "      <td>television</td>\n",
       "      <td>0.033306</td>\n",
       "      <td>False</td>\n",
       "    </tr>\n",
       "    <tr>\n",
       "      <th>1949</th>\n",
       "      <td>863062471531167744</td>\n",
       "      <td>https://pbs.twimg.com/media/C_o2vKCUwAAgtOp.jpg</td>\n",
       "      <td>2</td>\n",
       "      <td>French_bulldog</td>\n",
       "      <td>0.935804</td>\n",
       "      <td>True</td>\n",
       "      <td>pug</td>\n",
       "      <td>0.059576</td>\n",
       "      <td>True</td>\n",
       "      <td>boxer</td>\n",
       "      <td>0.001412</td>\n",
       "      <td>True</td>\n",
       "    </tr>\n",
       "  </tbody>\n",
       "</table>\n",
       "</div>"
      ],
      "text/plain": [
       "                tweet_id                                          jpg_url  \\\n",
       "2037  884562892145688576  https://pbs.twimg.com/media/DEaZQkfXUAEC7qB.jpg   \n",
       "642   681339448655802368  https://pbs.twimg.com/media/CXSanNkWkAAqR9M.jpg   \n",
       "481   675362609739206656  https://pbs.twimg.com/media/CV9etctWUAAl5Hp.jpg   \n",
       "1371  762316489655476224  https://pbs.twimg.com/media/CpRKzZKWAAABGh7.jpg   \n",
       "1949  863062471531167744  https://pbs.twimg.com/media/C_o2vKCUwAAgtOp.jpg   \n",
       "\n",
       "      img_num                  p1   p1_conf  p1_dog                  p2  \\\n",
       "2037        1                 pug  0.546406    True      French_bulldog   \n",
       "642         1           seat_belt  0.532441   False  Labrador_retriever   \n",
       "481         1  Labrador_retriever  0.479008    True            ice_bear   \n",
       "1371        1        African_grey  0.270468   False      Madagascar_cat   \n",
       "1949        2      French_bulldog  0.935804    True                 pug   \n",
       "\n",
       "       p2_conf  p2_dog                 p3   p3_conf  p3_dog  \n",
       "2037  0.404291    True  Brabancon_griffon  0.044002    True  \n",
       "642   0.094615    True             kuvasz  0.089863    True  \n",
       "481   0.218289   False             kuvasz  0.139911    True  \n",
       "1371  0.076187   False         television  0.033306   False  \n",
       "1949  0.059576    True              boxer  0.001412    True  "
      ]
     },
     "execution_count": 24,
     "metadata": {},
     "output_type": "execute_result"
    }
   ],
   "source": [
    "#Overview of the table\n",
    "image.sample(5)"
   ]
  },
  {
   "cell_type": "code",
   "execution_count": 25,
   "metadata": {},
   "outputs": [
    {
     "name": "stdout",
     "output_type": "stream",
     "text": [
      "<class 'pandas.core.frame.DataFrame'>\n",
      "RangeIndex: 2075 entries, 0 to 2074\n",
      "Data columns (total 12 columns):\n",
      "tweet_id    2075 non-null int64\n",
      "jpg_url     2075 non-null object\n",
      "img_num     2075 non-null int64\n",
      "p1          2075 non-null object\n",
      "p1_conf     2075 non-null float64\n",
      "p1_dog      2075 non-null bool\n",
      "p2          2075 non-null object\n",
      "p2_conf     2075 non-null float64\n",
      "p2_dog      2075 non-null bool\n",
      "p3          2075 non-null object\n",
      "p3_conf     2075 non-null float64\n",
      "p3_dog      2075 non-null bool\n",
      "dtypes: bool(3), float64(3), int64(2), object(4)\n",
      "memory usage: 152.1+ KB\n"
     ]
    }
   ],
   "source": [
    "#Any null value?\n",
    "image.info()"
   ]
  },
  {
   "cell_type": "code",
   "execution_count": 26,
   "metadata": {
    "scrolled": false
   },
   "outputs": [
    {
     "data": {
      "text/html": [
       "<div>\n",
       "<style scoped>\n",
       "    .dataframe tbody tr th:only-of-type {\n",
       "        vertical-align: middle;\n",
       "    }\n",
       "\n",
       "    .dataframe tbody tr th {\n",
       "        vertical-align: top;\n",
       "    }\n",
       "\n",
       "    .dataframe thead th {\n",
       "        text-align: right;\n",
       "    }\n",
       "</style>\n",
       "<table border=\"1\" class=\"dataframe\">\n",
       "  <thead>\n",
       "    <tr style=\"text-align: right;\">\n",
       "      <th></th>\n",
       "      <th>tweet_id</th>\n",
       "      <th>img_num</th>\n",
       "      <th>p1_conf</th>\n",
       "      <th>p2_conf</th>\n",
       "      <th>p3_conf</th>\n",
       "    </tr>\n",
       "  </thead>\n",
       "  <tbody>\n",
       "    <tr>\n",
       "      <th>count</th>\n",
       "      <td>2.075000e+03</td>\n",
       "      <td>2075.000000</td>\n",
       "      <td>2075.000000</td>\n",
       "      <td>2.075000e+03</td>\n",
       "      <td>2.075000e+03</td>\n",
       "    </tr>\n",
       "    <tr>\n",
       "      <th>mean</th>\n",
       "      <td>7.384514e+17</td>\n",
       "      <td>1.203855</td>\n",
       "      <td>0.594548</td>\n",
       "      <td>1.345886e-01</td>\n",
       "      <td>6.032417e-02</td>\n",
       "    </tr>\n",
       "    <tr>\n",
       "      <th>std</th>\n",
       "      <td>6.785203e+16</td>\n",
       "      <td>0.561875</td>\n",
       "      <td>0.271174</td>\n",
       "      <td>1.006657e-01</td>\n",
       "      <td>5.090593e-02</td>\n",
       "    </tr>\n",
       "    <tr>\n",
       "      <th>min</th>\n",
       "      <td>6.660209e+17</td>\n",
       "      <td>1.000000</td>\n",
       "      <td>0.044333</td>\n",
       "      <td>1.011300e-08</td>\n",
       "      <td>1.740170e-10</td>\n",
       "    </tr>\n",
       "    <tr>\n",
       "      <th>25%</th>\n",
       "      <td>6.764835e+17</td>\n",
       "      <td>1.000000</td>\n",
       "      <td>0.364412</td>\n",
       "      <td>5.388625e-02</td>\n",
       "      <td>1.622240e-02</td>\n",
       "    </tr>\n",
       "    <tr>\n",
       "      <th>50%</th>\n",
       "      <td>7.119988e+17</td>\n",
       "      <td>1.000000</td>\n",
       "      <td>0.588230</td>\n",
       "      <td>1.181810e-01</td>\n",
       "      <td>4.944380e-02</td>\n",
       "    </tr>\n",
       "    <tr>\n",
       "      <th>75%</th>\n",
       "      <td>7.932034e+17</td>\n",
       "      <td>1.000000</td>\n",
       "      <td>0.843855</td>\n",
       "      <td>1.955655e-01</td>\n",
       "      <td>9.180755e-02</td>\n",
       "    </tr>\n",
       "    <tr>\n",
       "      <th>max</th>\n",
       "      <td>8.924206e+17</td>\n",
       "      <td>4.000000</td>\n",
       "      <td>1.000000</td>\n",
       "      <td>4.880140e-01</td>\n",
       "      <td>2.734190e-01</td>\n",
       "    </tr>\n",
       "  </tbody>\n",
       "</table>\n",
       "</div>"
      ],
      "text/plain": [
       "           tweet_id      img_num      p1_conf       p2_conf       p3_conf\n",
       "count  2.075000e+03  2075.000000  2075.000000  2.075000e+03  2.075000e+03\n",
       "mean   7.384514e+17     1.203855     0.594548  1.345886e-01  6.032417e-02\n",
       "std    6.785203e+16     0.561875     0.271174  1.006657e-01  5.090593e-02\n",
       "min    6.660209e+17     1.000000     0.044333  1.011300e-08  1.740170e-10\n",
       "25%    6.764835e+17     1.000000     0.364412  5.388625e-02  1.622240e-02\n",
       "50%    7.119988e+17     1.000000     0.588230  1.181810e-01  4.944380e-02\n",
       "75%    7.932034e+17     1.000000     0.843855  1.955655e-01  9.180755e-02\n",
       "max    8.924206e+17     4.000000     1.000000  4.880140e-01  2.734190e-01"
      ]
     },
     "execution_count": 26,
     "metadata": {},
     "output_type": "execute_result"
    }
   ],
   "source": [
    "#Any unexpected value?\n",
    "image.describe()"
   ]
  },
  {
   "cell_type": "markdown",
   "metadata": {},
   "source": [
    "<span style=\"color:blue\">*An extra column is needed to contain the final prediction result.*</span>"
   ]
  },
  {
   "cell_type": "markdown",
   "metadata": {},
   "source": [
    "### Quality\n",
    "- Some tweets are missing in `extended` and `image` table.\n",
    "- `archive` table contains 181 retweets.\n",
    "- Columns related to retweets are not necessary in the table: retweeted_status_id, retweeted_status_user_id, retweeted_status_timestamp\n",
    "- column in_reply_to_status_id, in_reply_to_user_id are also irrelevant\n",
    "- Timestamp should be in datetime format\n",
    "- The denominator is not 10 for 23 rows.\n",
    "- Some rows contain very high or very low numerators.\n",
    "- Some rows may contain 2 different stages.\n",
    "- One more column in `image` table is needed to contain the prediction result for each tweet."
   ]
  },
  {
   "cell_type": "markdown",
   "metadata": {},
   "source": [
    "### Tidiness\n",
    "- Doggo, floofer, pupper, and puppo should be in one categorical column\n",
    "- `extended` and `tweet` table should be combined as they describe one observation (tweet)."
   ]
  },
  {
   "cell_type": "markdown",
   "metadata": {},
   "source": [
    "<a id='clean'></a>\n",
    "## Clean"
   ]
  },
  {
   "cell_type": "code",
   "execution_count": 27,
   "metadata": {},
   "outputs": [],
   "source": [
    "archive_clean = archive.copy()\n",
    "extended_clean = extended.copy()\n",
    "image_clean = image.copy()"
   ]
  },
  {
   "cell_type": "markdown",
   "metadata": {},
   "source": [
    "### Missing and Irrelevant Data"
   ]
  },
  {
   "cell_type": "markdown",
   "metadata": {},
   "source": [
    "#### Define\n",
    "remove retweets: rows with 'retweeted_status_id' value\n",
    "#### Code"
   ]
  },
  {
   "cell_type": "code",
   "execution_count": 28,
   "metadata": {},
   "outputs": [],
   "source": [
    "archive_clean = archive_clean[archive_clean.retweeted_status_id.isnull()]"
   ]
  },
  {
   "cell_type": "markdown",
   "metadata": {},
   "source": [
    "##### Test"
   ]
  },
  {
   "cell_type": "code",
   "execution_count": 29,
   "metadata": {},
   "outputs": [
    {
     "name": "stdout",
     "output_type": "stream",
     "text": [
      "<class 'pandas.core.frame.DataFrame'>\n",
      "Int64Index: 2175 entries, 0 to 2355\n",
      "Data columns (total 17 columns):\n",
      "tweet_id                      2175 non-null int64\n",
      "in_reply_to_status_id         78 non-null float64\n",
      "in_reply_to_user_id           78 non-null float64\n",
      "timestamp                     2175 non-null object\n",
      "source                        2175 non-null object\n",
      "text                          2175 non-null object\n",
      "retweeted_status_id           0 non-null float64\n",
      "retweeted_status_user_id      0 non-null float64\n",
      "retweeted_status_timestamp    0 non-null object\n",
      "expanded_urls                 2117 non-null object\n",
      "rating_numerator              2175 non-null int64\n",
      "rating_denominator            2175 non-null int64\n",
      "name                          2175 non-null object\n",
      "doggo                         2175 non-null object\n",
      "floofer                       2175 non-null object\n",
      "pupper                        2175 non-null object\n",
      "puppo                         2175 non-null object\n",
      "dtypes: float64(4), int64(3), object(10)\n",
      "memory usage: 305.9+ KB\n"
     ]
    }
   ],
   "source": [
    "archive_clean.info()"
   ]
  },
  {
   "cell_type": "markdown",
   "metadata": {},
   "source": [
    "#### Define\n",
    "- Drop columns related to retweets: *retweeted_status_id*, *retweeted_status_user_id* and *retweeted_status_timestamp*\n",
    "- Drop unnessary columns: *in_reply_to_status_id* and *in_reply_to_user_id*\n",
    "\n",
    "#### Code"
   ]
  },
  {
   "cell_type": "code",
   "execution_count": 30,
   "metadata": {},
   "outputs": [],
   "source": [
    "archive_clean.drop(['retweeted_status_id', 'retweeted_status_user_id', 'retweeted_status_timestamp', 'in_reply_to_status_id', 'in_reply_to_user_id'], axis=1, inplace=True)"
   ]
  },
  {
   "cell_type": "markdown",
   "metadata": {},
   "source": [
    "##### Test"
   ]
  },
  {
   "cell_type": "code",
   "execution_count": 31,
   "metadata": {
    "scrolled": true
   },
   "outputs": [
    {
     "name": "stdout",
     "output_type": "stream",
     "text": [
      "<class 'pandas.core.frame.DataFrame'>\n",
      "Int64Index: 2175 entries, 0 to 2355\n",
      "Data columns (total 12 columns):\n",
      "tweet_id              2175 non-null int64\n",
      "timestamp             2175 non-null object\n",
      "source                2175 non-null object\n",
      "text                  2175 non-null object\n",
      "expanded_urls         2117 non-null object\n",
      "rating_numerator      2175 non-null int64\n",
      "rating_denominator    2175 non-null int64\n",
      "name                  2175 non-null object\n",
      "doggo                 2175 non-null object\n",
      "floofer               2175 non-null object\n",
      "pupper                2175 non-null object\n",
      "puppo                 2175 non-null object\n",
      "dtypes: int64(3), object(9)\n",
      "memory usage: 220.9+ KB\n"
     ]
    }
   ],
   "source": [
    "archive_clean.info()"
   ]
  },
  {
   "cell_type": "markdown",
   "metadata": {},
   "source": [
    "#### Define\n",
    "Combine three tables together to get the common rows\n",
    "#### Code"
   ]
  },
  {
   "cell_type": "code",
   "execution_count": 32,
   "metadata": {},
   "outputs": [],
   "source": [
    "from functools import reduce\n",
    "dfs = [archive_clean, extended_clean, image_clean]\n",
    "combined_df = reduce(lambda left, right: pd.merge(left, right, on='tweet_id'), dfs)"
   ]
  },
  {
   "cell_type": "markdown",
   "metadata": {},
   "source": [
    "#### Test"
   ]
  },
  {
   "cell_type": "code",
   "execution_count": 33,
   "metadata": {
    "scrolled": true
   },
   "outputs": [
    {
     "name": "stdout",
     "output_type": "stream",
     "text": [
      "(1990, 25)\n"
     ]
    },
    {
     "data": {
      "text/plain": [
       "True"
      ]
     },
     "execution_count": 33,
     "metadata": {},
     "output_type": "execute_result"
    }
   ],
   "source": [
    "print(combined_df.shape)\n",
    "all_columns = set((list(archive_clean) + list(extended_clean) + list(image_clean)))\n",
    "sorted(all_columns) == sorted(set(combined_df))"
   ]
  },
  {
   "cell_type": "markdown",
   "metadata": {},
   "source": [
    "### Tidiness\n",
    "#### Define\n",
    "Split the combined table to two tables: one using tweet as observation unit, the other using image as observation unit\n",
    "#### Code"
   ]
  },
  {
   "cell_type": "code",
   "execution_count": 34,
   "metadata": {},
   "outputs": [],
   "source": [
    "tweet_clean = combined_df[['tweet_id',\n",
    " 'timestamp',\n",
    " 'source',\n",
    " 'text',\n",
    " 'expanded_urls',\n",
    " 'rating_numerator',\n",
    " 'rating_denominator',\n",
    " 'name',\n",
    " 'doggo',\n",
    " 'floofer',\n",
    " 'pupper',\n",
    " 'puppo',\n",
    " 'retweet_count',\n",
    " 'favorite_count']]"
   ]
  },
  {
   "cell_type": "code",
   "execution_count": 35,
   "metadata": {},
   "outputs": [],
   "source": [
    "image_clean = combined_df[['tweet_id','jpg_url',\n",
    " 'img_num',\n",
    " 'p1',\n",
    " 'p1_conf',\n",
    " 'p1_dog',\n",
    " 'p2',\n",
    " 'p2_conf',\n",
    " 'p2_dog',\n",
    " 'p3',\n",
    " 'p3_conf',\n",
    " 'p3_dog']]"
   ]
  },
  {
   "cell_type": "markdown",
   "metadata": {},
   "source": [
    "#### Test"
   ]
  },
  {
   "cell_type": "code",
   "execution_count": 36,
   "metadata": {
    "scrolled": true
   },
   "outputs": [
    {
     "name": "stdout",
     "output_type": "stream",
     "text": [
      "(1990, 14)\n"
     ]
    },
    {
     "data": {
      "text/html": [
       "<div>\n",
       "<style scoped>\n",
       "    .dataframe tbody tr th:only-of-type {\n",
       "        vertical-align: middle;\n",
       "    }\n",
       "\n",
       "    .dataframe tbody tr th {\n",
       "        vertical-align: top;\n",
       "    }\n",
       "\n",
       "    .dataframe thead th {\n",
       "        text-align: right;\n",
       "    }\n",
       "</style>\n",
       "<table border=\"1\" class=\"dataframe\">\n",
       "  <thead>\n",
       "    <tr style=\"text-align: right;\">\n",
       "      <th></th>\n",
       "      <th>tweet_id</th>\n",
       "      <th>timestamp</th>\n",
       "      <th>source</th>\n",
       "      <th>text</th>\n",
       "      <th>expanded_urls</th>\n",
       "      <th>rating_numerator</th>\n",
       "      <th>rating_denominator</th>\n",
       "      <th>name</th>\n",
       "      <th>doggo</th>\n",
       "      <th>floofer</th>\n",
       "      <th>pupper</th>\n",
       "      <th>puppo</th>\n",
       "      <th>retweet_count</th>\n",
       "      <th>favorite_count</th>\n",
       "    </tr>\n",
       "  </thead>\n",
       "  <tbody>\n",
       "    <tr>\n",
       "      <th>1771</th>\n",
       "      <td>670086499208155136</td>\n",
       "      <td>2015-11-27 03:47:25 +0000</td>\n",
       "      <td>&lt;a href=\"http://twitter.com/download/iphone\" r...</td>\n",
       "      <td>\"Hi yes this is dog. I can't help with that s-...</td>\n",
       "      <td>https://twitter.com/dog_rates/status/670086499...</td>\n",
       "      <td>10</td>\n",
       "      <td>10</td>\n",
       "      <td>None</td>\n",
       "      <td>None</td>\n",
       "      <td>None</td>\n",
       "      <td>None</td>\n",
       "      <td>None</td>\n",
       "      <td>254</td>\n",
       "      <td>698</td>\n",
       "    </tr>\n",
       "    <tr>\n",
       "      <th>1505</th>\n",
       "      <td>675497103322386432</td>\n",
       "      <td>2015-12-12 02:07:14 +0000</td>\n",
       "      <td>&lt;a href=\"http://twitter.com/download/iphone\" r...</td>\n",
       "      <td>Meet Reggie. He's going for the world record. ...</td>\n",
       "      <td>https://twitter.com/dog_rates/status/675497103...</td>\n",
       "      <td>11</td>\n",
       "      <td>10</td>\n",
       "      <td>Reggie</td>\n",
       "      <td>None</td>\n",
       "      <td>None</td>\n",
       "      <td>None</td>\n",
       "      <td>None</td>\n",
       "      <td>1342</td>\n",
       "      <td>3185</td>\n",
       "    </tr>\n",
       "    <tr>\n",
       "      <th>446</th>\n",
       "      <td>796080075804475393</td>\n",
       "      <td>2016-11-08 20:00:55 +0000</td>\n",
       "      <td>&lt;a href=\"http://twitter.com/download/iphone\" r...</td>\n",
       "      <td>This is Yogi. He's 98% floof. Snuggable af. 12...</td>\n",
       "      <td>https://twitter.com/dog_rates/status/796080075...</td>\n",
       "      <td>12</td>\n",
       "      <td>10</td>\n",
       "      <td>Yogi</td>\n",
       "      <td>None</td>\n",
       "      <td>None</td>\n",
       "      <td>None</td>\n",
       "      <td>None</td>\n",
       "      <td>2505</td>\n",
       "      <td>8965</td>\n",
       "    </tr>\n",
       "    <tr>\n",
       "      <th>166</th>\n",
       "      <td>850753642995093505</td>\n",
       "      <td>2017-04-08 16:54:09 +0000</td>\n",
       "      <td>&lt;a href=\"http://twitter.com/download/iphone\" r...</td>\n",
       "      <td>This is Kyle. He made a joke about your shoes,...</td>\n",
       "      <td>https://twitter.com/dog_rates/status/850753642...</td>\n",
       "      <td>11</td>\n",
       "      <td>10</td>\n",
       "      <td>Kyle</td>\n",
       "      <td>None</td>\n",
       "      <td>None</td>\n",
       "      <td>None</td>\n",
       "      <td>None</td>\n",
       "      <td>9561</td>\n",
       "      <td>31481</td>\n",
       "    </tr>\n",
       "    <tr>\n",
       "      <th>1578</th>\n",
       "      <td>673956914389192708</td>\n",
       "      <td>2015-12-07 20:07:04 +0000</td>\n",
       "      <td>&lt;a href=\"http://twitter.com/download/iphone\" r...</td>\n",
       "      <td>This is one esteemed pupper. Just graduated co...</td>\n",
       "      <td>https://twitter.com/dog_rates/status/673956914...</td>\n",
       "      <td>10</td>\n",
       "      <td>10</td>\n",
       "      <td>one</td>\n",
       "      <td>None</td>\n",
       "      <td>None</td>\n",
       "      <td>pupper</td>\n",
       "      <td>None</td>\n",
       "      <td>979</td>\n",
       "      <td>1957</td>\n",
       "    </tr>\n",
       "  </tbody>\n",
       "</table>\n",
       "</div>"
      ],
      "text/plain": [
       "                tweet_id                  timestamp  \\\n",
       "1771  670086499208155136  2015-11-27 03:47:25 +0000   \n",
       "1505  675497103322386432  2015-12-12 02:07:14 +0000   \n",
       "446   796080075804475393  2016-11-08 20:00:55 +0000   \n",
       "166   850753642995093505  2017-04-08 16:54:09 +0000   \n",
       "1578  673956914389192708  2015-12-07 20:07:04 +0000   \n",
       "\n",
       "                                                 source  \\\n",
       "1771  <a href=\"http://twitter.com/download/iphone\" r...   \n",
       "1505  <a href=\"http://twitter.com/download/iphone\" r...   \n",
       "446   <a href=\"http://twitter.com/download/iphone\" r...   \n",
       "166   <a href=\"http://twitter.com/download/iphone\" r...   \n",
       "1578  <a href=\"http://twitter.com/download/iphone\" r...   \n",
       "\n",
       "                                                   text  \\\n",
       "1771  \"Hi yes this is dog. I can't help with that s-...   \n",
       "1505  Meet Reggie. He's going for the world record. ...   \n",
       "446   This is Yogi. He's 98% floof. Snuggable af. 12...   \n",
       "166   This is Kyle. He made a joke about your shoes,...   \n",
       "1578  This is one esteemed pupper. Just graduated co...   \n",
       "\n",
       "                                          expanded_urls  rating_numerator  \\\n",
       "1771  https://twitter.com/dog_rates/status/670086499...                10   \n",
       "1505  https://twitter.com/dog_rates/status/675497103...                11   \n",
       "446   https://twitter.com/dog_rates/status/796080075...                12   \n",
       "166   https://twitter.com/dog_rates/status/850753642...                11   \n",
       "1578  https://twitter.com/dog_rates/status/673956914...                10   \n",
       "\n",
       "      rating_denominator    name doggo floofer  pupper puppo  retweet_count  \\\n",
       "1771                  10    None  None    None    None  None            254   \n",
       "1505                  10  Reggie  None    None    None  None           1342   \n",
       "446                   10    Yogi  None    None    None  None           2505   \n",
       "166                   10    Kyle  None    None    None  None           9561   \n",
       "1578                  10     one  None    None  pupper  None            979   \n",
       "\n",
       "      favorite_count  \n",
       "1771             698  \n",
       "1505            3185  \n",
       "446             8965  \n",
       "166            31481  \n",
       "1578            1957  "
      ]
     },
     "execution_count": 36,
     "metadata": {},
     "output_type": "execute_result"
    }
   ],
   "source": [
    "print(tweet_clean.shape)\n",
    "tweet_clean.sample(5)"
   ]
  },
  {
   "cell_type": "code",
   "execution_count": 37,
   "metadata": {},
   "outputs": [
    {
     "name": "stdout",
     "output_type": "stream",
     "text": [
      "(1990, 12)\n"
     ]
    },
    {
     "data": {
      "text/html": [
       "<div>\n",
       "<style scoped>\n",
       "    .dataframe tbody tr th:only-of-type {\n",
       "        vertical-align: middle;\n",
       "    }\n",
       "\n",
       "    .dataframe tbody tr th {\n",
       "        vertical-align: top;\n",
       "    }\n",
       "\n",
       "    .dataframe thead th {\n",
       "        text-align: right;\n",
       "    }\n",
       "</style>\n",
       "<table border=\"1\" class=\"dataframe\">\n",
       "  <thead>\n",
       "    <tr style=\"text-align: right;\">\n",
       "      <th></th>\n",
       "      <th>tweet_id</th>\n",
       "      <th>jpg_url</th>\n",
       "      <th>img_num</th>\n",
       "      <th>p1</th>\n",
       "      <th>p1_conf</th>\n",
       "      <th>p1_dog</th>\n",
       "      <th>p2</th>\n",
       "      <th>p2_conf</th>\n",
       "      <th>p2_dog</th>\n",
       "      <th>p3</th>\n",
       "      <th>p3_conf</th>\n",
       "      <th>p3_dog</th>\n",
       "    </tr>\n",
       "  </thead>\n",
       "  <tbody>\n",
       "    <tr>\n",
       "      <th>0</th>\n",
       "      <td>892420643555336193</td>\n",
       "      <td>https://pbs.twimg.com/media/DGKD1-bXoAAIAUK.jpg</td>\n",
       "      <td>1</td>\n",
       "      <td>orange</td>\n",
       "      <td>0.097049</td>\n",
       "      <td>False</td>\n",
       "      <td>bagel</td>\n",
       "      <td>0.085851</td>\n",
       "      <td>False</td>\n",
       "      <td>banana</td>\n",
       "      <td>0.076110</td>\n",
       "      <td>False</td>\n",
       "    </tr>\n",
       "    <tr>\n",
       "      <th>1</th>\n",
       "      <td>892177421306343426</td>\n",
       "      <td>https://pbs.twimg.com/media/DGGmoV4XsAAUL6n.jpg</td>\n",
       "      <td>1</td>\n",
       "      <td>Chihuahua</td>\n",
       "      <td>0.323581</td>\n",
       "      <td>True</td>\n",
       "      <td>Pekinese</td>\n",
       "      <td>0.090647</td>\n",
       "      <td>True</td>\n",
       "      <td>papillon</td>\n",
       "      <td>0.068957</td>\n",
       "      <td>True</td>\n",
       "    </tr>\n",
       "    <tr>\n",
       "      <th>2</th>\n",
       "      <td>891815181378084864</td>\n",
       "      <td>https://pbs.twimg.com/media/DGBdLU1WsAANxJ9.jpg</td>\n",
       "      <td>1</td>\n",
       "      <td>Chihuahua</td>\n",
       "      <td>0.716012</td>\n",
       "      <td>True</td>\n",
       "      <td>malamute</td>\n",
       "      <td>0.078253</td>\n",
       "      <td>True</td>\n",
       "      <td>kelpie</td>\n",
       "      <td>0.031379</td>\n",
       "      <td>True</td>\n",
       "    </tr>\n",
       "    <tr>\n",
       "      <th>3</th>\n",
       "      <td>891689557279858688</td>\n",
       "      <td>https://pbs.twimg.com/media/DF_q7IAWsAEuuN8.jpg</td>\n",
       "      <td>1</td>\n",
       "      <td>paper_towel</td>\n",
       "      <td>0.170278</td>\n",
       "      <td>False</td>\n",
       "      <td>Labrador_retriever</td>\n",
       "      <td>0.168086</td>\n",
       "      <td>True</td>\n",
       "      <td>spatula</td>\n",
       "      <td>0.040836</td>\n",
       "      <td>False</td>\n",
       "    </tr>\n",
       "    <tr>\n",
       "      <th>4</th>\n",
       "      <td>891327558926688256</td>\n",
       "      <td>https://pbs.twimg.com/media/DF6hr6BUMAAzZgT.jpg</td>\n",
       "      <td>2</td>\n",
       "      <td>basset</td>\n",
       "      <td>0.555712</td>\n",
       "      <td>True</td>\n",
       "      <td>English_springer</td>\n",
       "      <td>0.225770</td>\n",
       "      <td>True</td>\n",
       "      <td>German_short-haired_pointer</td>\n",
       "      <td>0.175219</td>\n",
       "      <td>True</td>\n",
       "    </tr>\n",
       "  </tbody>\n",
       "</table>\n",
       "</div>"
      ],
      "text/plain": [
       "             tweet_id                                          jpg_url  \\\n",
       "0  892420643555336193  https://pbs.twimg.com/media/DGKD1-bXoAAIAUK.jpg   \n",
       "1  892177421306343426  https://pbs.twimg.com/media/DGGmoV4XsAAUL6n.jpg   \n",
       "2  891815181378084864  https://pbs.twimg.com/media/DGBdLU1WsAANxJ9.jpg   \n",
       "3  891689557279858688  https://pbs.twimg.com/media/DF_q7IAWsAEuuN8.jpg   \n",
       "4  891327558926688256  https://pbs.twimg.com/media/DF6hr6BUMAAzZgT.jpg   \n",
       "\n",
       "   img_num           p1   p1_conf  p1_dog                  p2   p2_conf  \\\n",
       "0        1       orange  0.097049   False               bagel  0.085851   \n",
       "1        1    Chihuahua  0.323581    True            Pekinese  0.090647   \n",
       "2        1    Chihuahua  0.716012    True            malamute  0.078253   \n",
       "3        1  paper_towel  0.170278   False  Labrador_retriever  0.168086   \n",
       "4        2       basset  0.555712    True    English_springer  0.225770   \n",
       "\n",
       "   p2_dog                           p3   p3_conf  p3_dog  \n",
       "0   False                       banana  0.076110   False  \n",
       "1    True                     papillon  0.068957    True  \n",
       "2    True                       kelpie  0.031379    True  \n",
       "3    True                      spatula  0.040836   False  \n",
       "4    True  German_short-haired_pointer  0.175219    True  "
      ]
     },
     "execution_count": 37,
     "metadata": {},
     "output_type": "execute_result"
    }
   ],
   "source": [
    "print(image_clean.shape)\n",
    "image_clean.head()"
   ]
  },
  {
   "cell_type": "markdown",
   "metadata": {},
   "source": [
    "#### Define \n",
    "- check if any dog has two stages\n",
    "- convert *doggo*, *floofer*, *pupper*, *puppo*, *none* to one column and then change the column type to category\n",
    "\n",
    "#### Code"
   ]
  },
  {
   "cell_type": "code",
   "execution_count": 38,
   "metadata": {
    "scrolled": true
   },
   "outputs": [
    {
     "name": "stderr",
     "output_type": "stream",
     "text": [
      "/opt/conda/lib/python3.6/site-packages/ipykernel_launcher.py:1: SettingWithCopyWarning: \n",
      "A value is trying to be set on a copy of a slice from a DataFrame.\n",
      "Try using .loc[row_indexer,col_indexer] = value instead\n",
      "\n",
      "See the caveats in the documentation: http://pandas.pydata.org/pandas-docs/stable/indexing.html#indexing-view-versus-copy\n",
      "  \"\"\"Entry point for launching an IPython kernel.\n",
      "/opt/conda/lib/python3.6/site-packages/ipykernel_launcher.py:2: SettingWithCopyWarning: \n",
      "A value is trying to be set on a copy of a slice from a DataFrame.\n",
      "Try using .loc[row_indexer,col_indexer] = value instead\n",
      "\n",
      "See the caveats in the documentation: http://pandas.pydata.org/pandas-docs/stable/indexing.html#indexing-view-versus-copy\n",
      "  \n",
      "/opt/conda/lib/python3.6/site-packages/ipykernel_launcher.py:4: SettingWithCopyWarning: \n",
      "A value is trying to be set on a copy of a slice from a DataFrame.\n",
      "Try using .loc[row_indexer,col_indexer] = value instead\n",
      "\n",
      "See the caveats in the documentation: http://pandas.pydata.org/pandas-docs/stable/indexing.html#indexing-view-versus-copy\n",
      "  after removing the cwd from sys.path.\n",
      "/opt/conda/lib/python3.6/site-packages/ipykernel_launcher.py:5: SettingWithCopyWarning: \n",
      "A value is trying to be set on a copy of a slice from a DataFrame.\n",
      "Try using .loc[row_indexer,col_indexer] = value instead\n",
      "\n",
      "See the caveats in the documentation: http://pandas.pydata.org/pandas-docs/stable/indexing.html#indexing-view-versus-copy\n",
      "  \"\"\"\n",
      "/opt/conda/lib/python3.6/site-packages/ipykernel_launcher.py:7: SettingWithCopyWarning: \n",
      "A value is trying to be set on a copy of a slice from a DataFrame.\n",
      "Try using .loc[row_indexer,col_indexer] = value instead\n",
      "\n",
      "See the caveats in the documentation: http://pandas.pydata.org/pandas-docs/stable/indexing.html#indexing-view-versus-copy\n",
      "  import sys\n",
      "/opt/conda/lib/python3.6/site-packages/ipykernel_launcher.py:8: SettingWithCopyWarning: \n",
      "A value is trying to be set on a copy of a slice from a DataFrame.\n",
      "Try using .loc[row_indexer,col_indexer] = value instead\n",
      "\n",
      "See the caveats in the documentation: http://pandas.pydata.org/pandas-docs/stable/indexing.html#indexing-view-versus-copy\n",
      "  \n",
      "/opt/conda/lib/python3.6/site-packages/ipykernel_launcher.py:10: SettingWithCopyWarning: \n",
      "A value is trying to be set on a copy of a slice from a DataFrame.\n",
      "Try using .loc[row_indexer,col_indexer] = value instead\n",
      "\n",
      "See the caveats in the documentation: http://pandas.pydata.org/pandas-docs/stable/indexing.html#indexing-view-versus-copy\n",
      "  # Remove the CWD from sys.path while we load stuff.\n",
      "/opt/conda/lib/python3.6/site-packages/ipykernel_launcher.py:11: SettingWithCopyWarning: \n",
      "A value is trying to be set on a copy of a slice from a DataFrame.\n",
      "Try using .loc[row_indexer,col_indexer] = value instead\n",
      "\n",
      "See the caveats in the documentation: http://pandas.pydata.org/pandas-docs/stable/indexing.html#indexing-view-versus-copy\n",
      "  # This is added back by InteractiveShellApp.init_path()\n",
      "/opt/conda/lib/python3.6/site-packages/ipykernel_launcher.py:14: SettingWithCopyWarning: \n",
      "A value is trying to be set on a copy of a slice from a DataFrame.\n",
      "Try using .loc[row_indexer,col_indexer] = value instead\n",
      "\n",
      "See the caveats in the documentation: http://pandas.pydata.org/pandas-docs/stable/indexing.html#indexing-view-versus-copy\n",
      "  \n"
     ]
    }
   ],
   "source": [
    "tweet_clean['doggo'] = tweet_clean.doggo.replace('doggo', 1)\n",
    "tweet_clean['doggo'] = tweet_clean.doggo.replace('None', 0)\n",
    "\n",
    "tweet_clean['floofer'] = tweet_clean.floofer.replace('floofer', 1)\n",
    "tweet_clean['floofer'] = tweet_clean.floofer.replace('None', 0)\n",
    "\n",
    "tweet_clean['pupper'] = tweet_clean.pupper.replace('pupper', 1)\n",
    "tweet_clean['pupper'] = tweet_clean.pupper.replace('None', 0)\n",
    "\n",
    "tweet_clean['puppo'] = tweet_clean.puppo.replace('puppo', 1)\n",
    "tweet_clean['puppo'] = tweet_clean.puppo.replace('None', 0)\n",
    "\n",
    "#create a new column for rows without stage information\n",
    "tweet_clean['none'] = 1 - tweet_clean.doggo - tweet_clean.floofer - tweet_clean.pupper - tweet_clean.puppo"
   ]
  },
  {
   "cell_type": "code",
   "execution_count": 39,
   "metadata": {},
   "outputs": [
    {
     "data": {
      "text/plain": [
       "11"
      ]
     },
     "execution_count": 39,
     "metadata": {},
     "output_type": "execute_result"
    }
   ],
   "source": [
    "tweet_clean[tweet_clean.none < 0].tweet_id.count()"
   ]
  },
  {
   "cell_type": "markdown",
   "metadata": {},
   "source": [
    "<span style=\"color:blue\">*11 rows contain more than one stage information. Remove those rows.*</span>"
   ]
  },
  {
   "cell_type": "code",
   "execution_count": 40,
   "metadata": {},
   "outputs": [],
   "source": [
    "#Remove those rows\n",
    "tweet_clean = tweet_clean[tweet_clean.none >= 0]"
   ]
  },
  {
   "cell_type": "code",
   "execution_count": 41,
   "metadata": {
    "scrolled": true
   },
   "outputs": [],
   "source": [
    "#convert doggo, floofer, pupper, puppo, none to one column\n",
    "stages = ['doggo', 'floofer', 'pupper', 'puppo', 'none']\n",
    "ids = [x for x in list(tweet_clean) if x not in stages]\n",
    "tweet_clean = pd.melt(tweet_clean, id_vars=ids, value_vars=stages, var_name='stage')\n",
    "tweet_clean = tweet_clean[tweet_clean.value == 1]\n",
    "tweet_clean.drop('value', axis=1, inplace=True)"
   ]
  },
  {
   "cell_type": "code",
   "execution_count": 42,
   "metadata": {},
   "outputs": [],
   "source": [
    "#convert the stage column to category data type\n",
    "tweet_clean.stage = tweet_clean.stage.astype('category')"
   ]
  },
  {
   "cell_type": "markdown",
   "metadata": {},
   "source": [
    "#### Test"
   ]
  },
  {
   "cell_type": "code",
   "execution_count": 43,
   "metadata": {},
   "outputs": [
    {
     "name": "stdout",
     "output_type": "stream",
     "text": [
      "<class 'pandas.core.frame.DataFrame'>\n",
      "Int64Index: 1979 entries, 9 to 9894\n",
      "Data columns (total 11 columns):\n",
      "tweet_id              1979 non-null int64\n",
      "timestamp             1979 non-null object\n",
      "source                1979 non-null object\n",
      "text                  1979 non-null object\n",
      "expanded_urls         1979 non-null object\n",
      "rating_numerator      1979 non-null int64\n",
      "rating_denominator    1979 non-null int64\n",
      "name                  1979 non-null object\n",
      "retweet_count         1979 non-null int64\n",
      "favorite_count        1979 non-null int64\n",
      "stage                 1979 non-null category\n",
      "dtypes: category(1), int64(5), object(5)\n",
      "memory usage: 172.2+ KB\n"
     ]
    }
   ],
   "source": [
    "tweet_clean.info()"
   ]
  },
  {
   "cell_type": "code",
   "execution_count": 44,
   "metadata": {},
   "outputs": [
    {
     "data": {
      "text/plain": [
       "none       1684\n",
       "pupper      203\n",
       "doggo        63\n",
       "puppo        22\n",
       "floofer       7\n",
       "Name: stage, dtype: int64"
      ]
     },
     "execution_count": 44,
     "metadata": {},
     "output_type": "execute_result"
    }
   ],
   "source": [
    "tweet_clean.stage.value_counts()"
   ]
  },
  {
   "cell_type": "markdown",
   "metadata": {},
   "source": [
    "#### Define\n",
    "convert the *timestamp* column to datetime\n",
    "\n",
    "#### Code"
   ]
  },
  {
   "cell_type": "code",
   "execution_count": 45,
   "metadata": {},
   "outputs": [],
   "source": [
    "tweet_clean.timestamp = pd.to_datetime(tweet_clean.timestamp)"
   ]
  },
  {
   "cell_type": "markdown",
   "metadata": {},
   "source": [
    "#### Test"
   ]
  },
  {
   "cell_type": "code",
   "execution_count": 46,
   "metadata": {},
   "outputs": [
    {
     "data": {
      "text/plain": [
       "tweet_id                       int64\n",
       "timestamp             datetime64[ns]\n",
       "source                        object\n",
       "text                          object\n",
       "expanded_urls                 object\n",
       "rating_numerator               int64\n",
       "rating_denominator             int64\n",
       "name                          object\n",
       "retweet_count                  int64\n",
       "favorite_count                 int64\n",
       "stage                       category\n",
       "dtype: object"
      ]
     },
     "execution_count": 46,
     "metadata": {},
     "output_type": "execute_result"
    }
   ],
   "source": [
    "tweet_clean.dtypes"
   ]
  },
  {
   "cell_type": "markdown",
   "metadata": {},
   "source": [
    "#### Define\n",
    "investigate 23 rows whose denominator is not 10\n",
    "\n",
    "#### Code"
   ]
  },
  {
   "cell_type": "code",
   "execution_count": 47,
   "metadata": {
    "scrolled": true
   },
   "outputs": [
    {
     "name": "stdout",
     "output_type": "stream",
     "text": [
      "The floofs have been released I repeat the floofs have been released. 84/70 https://t.co/NIYC820tmd\n",
      "\n",
      "\n",
      "Meet Sam. She smiles 24/7 &amp; secretly aspires to be a reindeer. \n",
      "Keep Sam smiling by clicking and sharing this link:\n",
      "https://t.co/98tB8y7y7t https://t.co/LouL5vdvxx\n",
      "\n",
      "\n",
      "Why does this never happen at my front door... 165/150 https://t.co/HmwrdfEfUE\n",
      "\n",
      "\n",
      "After so many requests, this is Bretagne. She was the last surviving 9/11 search dog, and our second ever 14/10. RIP https://t.co/XAVDNDaVgQ\n",
      "\n",
      "\n",
      "Say hello to this unbelievably well behaved squad of doggos. 204/170 would try to pet all at once https://t.co/yGQI3He3xv\n",
      "\n",
      "\n",
      "Happy 4/20 from the squad! 13/10 for all https://t.co/eV1diwds8a\n",
      "\n",
      "\n",
      "This is Bluebert. He just saw that both #FinalFur match ups are split 50/50. Amazed af. 11/10 https://t.co/Kky1DPG4iq\n",
      "\n",
      "\n",
      "Happy Saturday here's 9 puppers on a bench. 99/90 good work everybody https://t.co/mpvaVxKmc1\n",
      "\n",
      "\n",
      "Here's a brigade of puppers. All look very prepared for whatever happens next. 80/80 https://t.co/0eb7R1Om12\n",
      "\n",
      "\n",
      "From left to right:\n",
      "Cletus, Jerome, Alejandro, Burp, &amp; Titson\n",
      "None know where camera is. 45/50 would hug all at once https://t.co/sedre1ivTK\n",
      "\n",
      "\n",
      "Here is a whole flock of puppers.  60/50 I'll take the lot https://t.co/9dpcw6MdWa\n",
      "\n",
      "\n",
      "Happy Wednesday here's a bucket of pups. 44/40 would pet all at once https://t.co/HppvrYuamZ\n",
      "\n",
      "\n",
      "Two sneaky puppers were not initially seen, moving the rating to 143/130. Please forgive us. Thank you https://t.co/kRK51Y5ac3\n",
      "\n",
      "\n",
      "Someone help the girl is being mugged. Several are distracting her while two steal her shoes. Clever puppers 121/110 https://t.co/1zfnTJLt55\n",
      "\n",
      "\n",
      "This is Darrel. He just robbed a 7/11 and is in a high speed police chase. Was just spotted by the helicopter 10/10 https://t.co/7EsP8LmSp5\n",
      "\n",
      "\n",
      "IT'S PUPPERGEDDON. Total of 144/120 ...I think https://t.co/ZanVtAtvIq\n",
      "\n",
      "\n",
      "Here we have an entire platoon of puppers. Total score: 88/80 would pet all at once https://t.co/y93p6FLvVw\n",
      "\n",
      "\n",
      "This is an Albanian 3 1/2 legged  Episcopalian. Loves well-polished hardwood flooring. Penis on the collar. 9/10 https://t.co/d9NcXFKwLv\n",
      "\n",
      "\n"
     ]
    }
   ],
   "source": [
    "#show text of rows with non-10 denominators\n",
    "for i in tweet_clean[tweet_clean.rating_denominator != 10].text:\n",
    "    print(i)\n",
    "    print('\\n')"
   ]
  },
  {
   "cell_type": "code",
   "execution_count": 48,
   "metadata": {},
   "outputs": [],
   "source": [
    "#remove rows which don't contain /10 and set all others to 10\n",
    "contain_ten = tweet_clean.text.str.contains('/10')\n",
    "tweet_clean = tweet_clean[contain_ten]\n",
    "to_repair = (tweet_clean[tweet_clean.rating_denominator != 10].text.index)\n",
    "for index in to_repair:\n",
    "    tweet_clean.at[index, 'rating_denominator'] = 10"
   ]
  },
  {
   "cell_type": "markdown",
   "metadata": {},
   "source": [
    "#### Test"
   ]
  },
  {
   "cell_type": "code",
   "execution_count": 49,
   "metadata": {},
   "outputs": [
    {
     "data": {
      "text/plain": [
       "0"
      ]
     },
     "execution_count": 49,
     "metadata": {},
     "output_type": "execute_result"
    }
   ],
   "source": [
    "tweet_clean[tweet_clean.rating_denominator != 10].tweet_id.count()"
   ]
  },
  {
   "cell_type": "markdown",
   "metadata": {},
   "source": [
    "#### Define\n",
    "investigate rows with high or low numerator\n",
    "\n",
    "#### Code"
   ]
  },
  {
   "cell_type": "code",
   "execution_count": 50,
   "metadata": {
    "scrolled": true
   },
   "outputs": [
    {
     "data": {
      "text/plain": [
       "12      444\n",
       "10      417\n",
       "11      394\n",
       "13      257\n",
       "9       151\n",
       "8        95\n",
       "7        52\n",
       "14       35\n",
       "6        32\n",
       "5        32\n",
       "3        19\n",
       "4        16\n",
       "2         9\n",
       "1         5\n",
       "0         2\n",
       "420       1\n",
       "26        1\n",
       "27        1\n",
       "50        1\n",
       "75        1\n",
       "1776      1\n",
       "Name: rating_numerator, dtype: int64"
      ]
     },
     "execution_count": 50,
     "metadata": {},
     "output_type": "execute_result"
    }
   ],
   "source": [
    "tweet_clean.rating_numerator.value_counts()"
   ]
  },
  {
   "cell_type": "code",
   "execution_count": 51,
   "metadata": {},
   "outputs": [
    {
     "name": "stdout",
     "output_type": "stream",
     "text": [
      "# rows that cannot be parsed: 7\n",
      "# rows whose parsed numerator doesn't match with existing one: 7\n"
     ]
    }
   ],
   "source": [
    "#check if the number before '/10' matches with rating_numerator\n",
    "cannot_parse = set()\n",
    "incorrect = set()\n",
    "\n",
    "for i in tweet_clean.index:\n",
    "    index = tweet_clean.loc[i].text.find('/10')\n",
    "    try:\n",
    "        numerator = int(tweet_clean.loc[i].text[index-2:index].strip())\n",
    "    except:\n",
    "        cannot_parse.add(i)\n",
    "        continue\n",
    "    if numerator != tweet_clean.loc[i].rating_numerator:\n",
    "        incorrect.add(i)\n",
    "\n",
    "print(\"# rows that cannot be parsed: \" + str(len(cannot_parse)))\n",
    "print(\"# rows whose parsed numerator doesn't match with existing one: \" + str(len(incorrect))) "
   ]
  },
  {
   "cell_type": "code",
   "execution_count": 52,
   "metadata": {},
   "outputs": [
    {
     "name": "stdout",
     "output_type": "stream",
     "text": [
      "9230:This is Darrel. He just robbed a 7/11 and is in a high speed police chase. Was just spotted by the helicopter 10/10 https://t.co/7EsP8LmSp5\n",
      "7\n",
      "\n",
      "\n",
      "9874:This is an Albanian 3 1/2 legged  Episcopalian. Loves well-polished hardwood flooring. Penis on the collar. 9/10 https://t.co/d9NcXFKwLv\n",
      "1\n",
      "\n",
      "\n",
      "9619:After so many requests... here you go.\n",
      "\n",
      "Good dogg. 420/10 https://t.co/yfAAo1gdeY\n",
      "420\n",
      "\n",
      "\n",
      "8630:This is Atticus. He's quite simply America af. 1776/10 https://t.co/GRXwMxLBkh\n",
      "1776\n",
      "\n",
      "\n",
      "8793:Happy 4/20 from the squad! 13/10 for all https://t.co/eV1diwds8a\n",
      "4\n",
      "\n",
      "\n",
      "8827:This is Bluebert. He just saw that both #FinalFur match ups are split 50/50. Amazed af. 11/10 https://t.co/Kky1DPG4iq\n",
      "50\n",
      "\n",
      "\n",
      "8703:After so many requests, this is Bretagne. She was the last surviving 9/11 search dog, and our second ever 14/10. RIP https://t.co/XAVDNDaVgQ\n",
      "9\n",
      "\n",
      "\n"
     ]
    }
   ],
   "source": [
    "#investigate the incorrect rows manually\n",
    "for i in incorrect:\n",
    "    print(str(i) + \":\" + str(tweet_clean.loc[i].text))\n",
    "    print(str(tweet_clean.loc[i].rating_numerator))\n",
    "    print('\\n')"
   ]
  },
  {
   "cell_type": "code",
   "execution_count": 53,
   "metadata": {},
   "outputs": [],
   "source": [
    "#correct the incorrect numerator except 9619(420) and 8630(1776)\n",
    "for i in incorrect:\n",
    "    if i != 9619 and i!= 8630:\n",
    "        index = tweet_clean.loc[i].text.find('/10')\n",
    "        tweet_clean.at[i, 'rating_numerator'] = int(tweet_clean.loc[i].text[index-2:index].strip())"
   ]
  },
  {
   "cell_type": "code",
   "execution_count": 54,
   "metadata": {},
   "outputs": [
    {
     "name": "stdout",
     "output_type": "stream",
     "text": [
      "9034:Please stop sending in saber-toothed tigers. This is getting ridiculous. We only rate dogs.\n",
      "...8/10 https://t.co/iAeQNueou8\n",
      "8\n",
      "\n",
      "\n",
      "8975:I know it's tempting, but please stop sending in pics of Donald Trump. Thank you ...9/10 https://t.co/y35Y1TJERY\n",
      "9\n",
      "\n",
      "\n",
      "5263:\"Hello forest pupper I am house pupper welcome to my abode\" (8/10 for both) https://t.co/qFD8217fUT\n",
      "8\n",
      "\n",
      "\n",
      "7955:This is Bella. She hopes her smile made you smile. If not, she is also offering you her favorite monkey. 13.5/10 https://t.co/qjrljjt948\n",
      "5\n",
      "\n",
      "\n",
      "8666:This is an Iraqi Speed Kangaroo. It is not a dog. Please only send in dogs. I'm very angry with all of you ...9/10 https://t.co/5qpBTTpgUt\n",
      "9\n",
      "\n",
      "\n",
      "9788:This is Tedrick. He lives on the edge. Needs someone to hit the gas tho. Other than that he's a baller. 10&amp;2/10 https://t.co/LvP1TTYSCN\n",
      "2\n",
      "\n",
      "\n",
      "9183:For the last time, WE. DO. NOT. RATE. BULBASAUR. We only rate dogs. Please only send dogs. Thank you ...9/10 https://t.co/GboDG8WhJG\n",
      "9\n",
      "\n",
      "\n"
     ]
    }
   ],
   "source": [
    "#investigate the cannot_parse rows manually\n",
    "for i in cannot_parse:\n",
    "    print(str(i) + \":\" + str(tweet_clean.loc[i].text))\n",
    "    print(str(tweet_clean.loc[i].rating_numerator))\n",
    "    print('\\n')"
   ]
  },
  {
   "cell_type": "code",
   "execution_count": 55,
   "metadata": {},
   "outputs": [],
   "source": [
    "#correct row#7955                                                  \n",
    "tweet_clean.at[7955,'rating_numerator'] = 14                                                "
   ]
  },
  {
   "cell_type": "markdown",
   "metadata": {},
   "source": [
    "#### Test"
   ]
  },
  {
   "cell_type": "code",
   "execution_count": 56,
   "metadata": {
    "scrolled": true
   },
   "outputs": [
    {
     "name": "stdout",
     "output_type": "stream",
     "text": [
      "9034:Please stop sending in saber-toothed tigers. This is getting ridiculous. We only rate dogs.\n",
      "...8/10 https://t.co/iAeQNueou8\n",
      "numerator: 8\n",
      "\n",
      "\n",
      "9183:For the last time, WE. DO. NOT. RATE. BULBASAUR. We only rate dogs. Please only send dogs. Thank you ...9/10 https://t.co/GboDG8WhJG\n",
      "numerator: 9\n",
      "\n",
      "\n",
      "9230:This is Darrel. He just robbed a 7/11 and is in a high speed police chase. Was just spotted by the helicopter 10/10 https://t.co/7EsP8LmSp5\n",
      "numerator: 10\n",
      "\n",
      "\n",
      "8975:I know it's tempting, but please stop sending in pics of Donald Trump. Thank you ...9/10 https://t.co/y35Y1TJERY\n",
      "numerator: 9\n",
      "\n",
      "\n",
      "5263:\"Hello forest pupper I am house pupper welcome to my abode\" (8/10 for both) https://t.co/qFD8217fUT\n",
      "numerator: 8\n",
      "\n",
      "\n",
      "9874:This is an Albanian 3 1/2 legged  Episcopalian. Loves well-polished hardwood flooring. Penis on the collar. 9/10 https://t.co/d9NcXFKwLv\n",
      "numerator: 9\n",
      "\n",
      "\n",
      "9619:After so many requests... here you go.\n",
      "\n",
      "Good dogg. 420/10 https://t.co/yfAAo1gdeY\n",
      "numerator: 420\n",
      "\n",
      "\n",
      "7955:This is Bella. She hopes her smile made you smile. If not, she is also offering you her favorite monkey. 13.5/10 https://t.co/qjrljjt948\n",
      "numerator: 14\n",
      "\n",
      "\n",
      "8630:This is Atticus. He's quite simply America af. 1776/10 https://t.co/GRXwMxLBkh\n",
      "numerator: 1776\n",
      "\n",
      "\n",
      "8793:Happy 4/20 from the squad! 13/10 for all https://t.co/eV1diwds8a\n",
      "numerator: 13\n",
      "\n",
      "\n",
      "8666:This is an Iraqi Speed Kangaroo. It is not a dog. Please only send in dogs. I'm very angry with all of you ...9/10 https://t.co/5qpBTTpgUt\n",
      "numerator: 9\n",
      "\n",
      "\n",
      "8827:This is Bluebert. He just saw that both #FinalFur match ups are split 50/50. Amazed af. 11/10 https://t.co/Kky1DPG4iq\n",
      "numerator: 11\n",
      "\n",
      "\n",
      "9788:This is Tedrick. He lives on the edge. Needs someone to hit the gas tho. Other than that he's a baller. 10&amp;2/10 https://t.co/LvP1TTYSCN\n",
      "numerator: 2\n",
      "\n",
      "\n",
      "8703:After so many requests, this is Bretagne. She was the last surviving 9/11 search dog, and our second ever 14/10. RIP https://t.co/XAVDNDaVgQ\n",
      "numerator: 14\n",
      "\n",
      "\n"
     ]
    }
   ],
   "source": [
    "for i in incorrect.union(cannot_parse):\n",
    "    print(str(i) + \":\" + str(tweet_clean.loc[i].text))\n",
    "    print(\"numerator: \" + str(tweet_clean.loc[i].rating_numerator))\n",
    "    print('\\n')"
   ]
  },
  {
   "cell_type": "markdown",
   "metadata": {},
   "source": [
    "#### Define\n",
    "- delete the tweet_id which exist in `image_clean` table but not in `tweet_clean` table\n",
    "\n",
    "#### Code"
   ]
  },
  {
   "cell_type": "code",
   "execution_count": 57,
   "metadata": {},
   "outputs": [],
   "source": [
    "common_id = image_clean.tweet_id.isin(tweet_clean.tweet_id)\n",
    "image_clean = image_clean[common_id]"
   ]
  },
  {
   "cell_type": "markdown",
   "metadata": {},
   "source": [
    "#### Test"
   ]
  },
  {
   "cell_type": "code",
   "execution_count": 59,
   "metadata": {},
   "outputs": [
    {
     "data": {
      "text/plain": [
       "True"
      ]
     },
     "execution_count": 59,
     "metadata": {},
     "output_type": "execute_result"
    }
   ],
   "source": [
    "id1 = image_clean.tweet_id.sort_values()\n",
    "id2 = tweet_clean.tweet_id.sort_values()\n",
    "list(id1) == list(id2)"
   ]
  },
  {
   "cell_type": "markdown",
   "metadata": {},
   "source": [
    "#### Define\n",
    "The `image` table contains top 3 prediction about the dog breed given by neural network. I will use the prediction result which is a dog breed and has highest confidence as the result of prediction for each tweet.\n",
    "- create a new column `prediction` and the value is the most likely prediction results\n",
    "- create a new column `breed` and make the value the same as `prediction` value for top 10 dog breeds and not_dog; change others to other_dog\n",
    "- change the `breed` column to category\n",
    "\n",
    "#### Code"
   ]
  },
  {
   "cell_type": "code",
   "execution_count": 60,
   "metadata": {
    "scrolled": true
   },
   "outputs": [],
   "source": [
    "#generate prediction column\n",
    "image_clean['prediction'] = 'not_dog'\n",
    "\n",
    "first = image_clean.p1_dog == True\n",
    "image_clean.loc[first,'prediction'] = image_clean.loc[first,'p1']\n",
    "\n",
    "second = (image_clean.p1_dog == False) & (image_clean.p2_dog == True)\n",
    "image_clean.loc[second,'prediction'] = image_clean.loc[second,'p2']\n",
    "\n",
    "third = (image_clean.p1_dog == False) & (image_clean.p2_dog == False) & (image_clean.p3_dog == True)\n",
    "image_clean.loc[third,'prediction'] = image_clean.loc[third,'p3']"
   ]
  },
  {
   "cell_type": "code",
   "execution_count": 61,
   "metadata": {},
   "outputs": [
    {
     "data": {
      "text/plain": [
       "not_dog                           306\n",
       "golden_retriever                  151\n",
       "Labrador_retriever                102\n",
       "Pembroke                           95\n",
       "Chihuahua                          91\n",
       "pug                                62\n",
       "toy_poodle                         51\n",
       "chow                               47\n",
       "Pomeranian                         42\n",
       "Samoyed                            41\n",
       "malamute                           33\n",
       "Chesapeake_Bay_retriever           31\n",
       "French_bulldog                     30\n",
       "cocker_spaniel                     30\n",
       "miniature_pinscher                 25\n",
       "Eskimo_dog                         22\n",
       "Cardigan                           21\n",
       "Staffordshire_bullterrier          21\n",
       "German_shepherd                    21\n",
       "Shih-Tzu                           20\n",
       "Siberian_husky                     20\n",
       "beagle                             20\n",
       "Shetland_sheepdog                  19\n",
       "Rottweiler                         19\n",
       "Maltese_dog                        19\n",
       "Lakeland_terrier                   18\n",
       "kuvasz                             18\n",
       "Italian_greyhound                  17\n",
       "basset                             17\n",
       "American_Staffordshire_terrier     16\n",
       "                                 ... \n",
       "Irish_setter                        4\n",
       "Saluki                              4\n",
       "Weimaraner                          4\n",
       "Tibetan_terrier                     4\n",
       "Gordon_setter                       4\n",
       "Rhodesian_ridgeback                 4\n",
       "Leonberg                            3\n",
       "toy_terrier                         3\n",
       "Brabancon_griffon                   3\n",
       "Irish_water_spaniel                 3\n",
       "Afghan_hound                        3\n",
       "cairn                               3\n",
       "briard                              3\n",
       "komondor                            3\n",
       "Greater_Swiss_Mountain_dog          3\n",
       "wire-haired_fox_terrier             2\n",
       "Australian_terrier                  2\n",
       "curly-coated_retriever              2\n",
       "black-and-tan_coonhound             2\n",
       "Sussex_spaniel                      2\n",
       "Appenzeller                         2\n",
       "groenendael                         2\n",
       "standard_schnauzer                  1\n",
       "EntleBucher                         1\n",
       "Japanese_spaniel                    1\n",
       "Bouvier_des_Flandres                1\n",
       "Irish_wolfhound                     1\n",
       "Scotch_terrier                      1\n",
       "clumber                             1\n",
       "silky_terrier                       1\n",
       "Name: prediction, Length: 114, dtype: int64"
      ]
     },
     "execution_count": 61,
     "metadata": {},
     "output_type": "execute_result"
    }
   ],
   "source": [
    "image_clean.prediction.value_counts()"
   ]
  },
  {
   "cell_type": "code",
   "execution_count": 62,
   "metadata": {
    "scrolled": true
   },
   "outputs": [],
   "source": [
    "#get the first 10 most tweeted dog breeds\n",
    "top10_breed = list(image_clean.prediction.value_counts()[:11].index)\n",
    "\n",
    "#create breed column\n",
    "image_clean['breed'] = image_clean['prediction']\n",
    "is_top10_breed = image_clean.breed.isin(top10_breed)\n",
    "image_clean.loc[~is_top10_breed, 'breed'] = 'other_dog'\n",
    "\n",
    "#set the breed column to category\n",
    "image_clean.breed = image_clean.breed.astype('category')"
   ]
  },
  {
   "cell_type": "markdown",
   "metadata": {},
   "source": [
    "#### Test"
   ]
  },
  {
   "cell_type": "code",
   "execution_count": 63,
   "metadata": {},
   "outputs": [
    {
     "data": {
      "text/plain": [
       "tweet_id         int64\n",
       "jpg_url         object\n",
       "img_num          int64\n",
       "p1              object\n",
       "p1_conf        float64\n",
       "p1_dog            bool\n",
       "p2              object\n",
       "p2_conf        float64\n",
       "p2_dog            bool\n",
       "p3              object\n",
       "p3_conf        float64\n",
       "p3_dog            bool\n",
       "prediction      object\n",
       "breed         category\n",
       "dtype: object"
      ]
     },
     "execution_count": 63,
     "metadata": {},
     "output_type": "execute_result"
    }
   ],
   "source": [
    "image_clean.dtypes"
   ]
  },
  {
   "cell_type": "code",
   "execution_count": 64,
   "metadata": {},
   "outputs": [
    {
     "name": "stdout",
     "output_type": "stream",
     "text": [
      "12\n"
     ]
    },
    {
     "data": {
      "text/plain": [
       "other_dog             945\n",
       "not_dog               306\n",
       "golden_retriever      151\n",
       "Labrador_retriever    102\n",
       "Pembroke               95\n",
       "Chihuahua              91\n",
       "pug                    62\n",
       "toy_poodle             51\n",
       "chow                   47\n",
       "Pomeranian             42\n",
       "Samoyed                41\n",
       "malamute               33\n",
       "Name: breed, dtype: int64"
      ]
     },
     "execution_count": 64,
     "metadata": {},
     "output_type": "execute_result"
    }
   ],
   "source": [
    "print(len(image_clean.breed.value_counts()))\n",
    "image_clean.breed.value_counts()"
   ]
  },
  {
   "cell_type": "markdown",
   "metadata": {},
   "source": [
    "#### Define\n",
    "Final clean up (reset index) and check (same tweet_id in two tables)\n",
    "#### Code"
   ]
  },
  {
   "cell_type": "code",
   "execution_count": 65,
   "metadata": {},
   "outputs": [],
   "source": [
    "tweet_clean.reset_index(drop=True, inplace=True)\n",
    "image_clean.reset_index(drop=True, inplace=True)"
   ]
  },
  {
   "cell_type": "markdown",
   "metadata": {},
   "source": [
    "#### Test"
   ]
  },
  {
   "cell_type": "code",
   "execution_count": 66,
   "metadata": {},
   "outputs": [
    {
     "name": "stdout",
     "output_type": "stream",
     "text": [
      "<class 'pandas.core.frame.DataFrame'>\n",
      "RangeIndex: 1966 entries, 0 to 1965\n",
      "Data columns (total 11 columns):\n",
      "tweet_id              1966 non-null int64\n",
      "timestamp             1966 non-null datetime64[ns]\n",
      "source                1966 non-null object\n",
      "text                  1966 non-null object\n",
      "expanded_urls         1966 non-null object\n",
      "rating_numerator      1966 non-null int64\n",
      "rating_denominator    1966 non-null int64\n",
      "name                  1966 non-null object\n",
      "retweet_count         1966 non-null int64\n",
      "favorite_count        1966 non-null int64\n",
      "stage                 1966 non-null category\n",
      "dtypes: category(1), datetime64[ns](1), int64(5), object(4)\n",
      "memory usage: 155.8+ KB\n"
     ]
    }
   ],
   "source": [
    "tweet_clean.info()"
   ]
  },
  {
   "cell_type": "code",
   "execution_count": 427,
   "metadata": {},
   "outputs": [
    {
     "name": "stdout",
     "output_type": "stream",
     "text": [
      "<class 'pandas.core.frame.DataFrame'>\n",
      "RangeIndex: 1966 entries, 0 to 1965\n",
      "Data columns (total 14 columns):\n",
      "tweet_id      1966 non-null int64\n",
      "jpg_url       1966 non-null object\n",
      "img_num       1966 non-null int64\n",
      "p1            1966 non-null object\n",
      "p1_conf       1966 non-null float64\n",
      "p1_dog        1966 non-null bool\n",
      "p2            1966 non-null object\n",
      "p2_conf       1966 non-null float64\n",
      "p2_dog        1966 non-null bool\n",
      "p3            1966 non-null object\n",
      "p3_conf       1966 non-null float64\n",
      "p3_dog        1966 non-null bool\n",
      "prediction    1966 non-null object\n",
      "breed         1966 non-null category\n",
      "dtypes: bool(3), category(1), float64(3), int64(2), object(5)\n",
      "memory usage: 161.8+ KB\n"
     ]
    }
   ],
   "source": [
    "image_clean.info()"
   ]
  },
  {
   "cell_type": "code",
   "execution_count": 67,
   "metadata": {},
   "outputs": [
    {
     "data": {
      "text/plain": [
       "True"
      ]
     },
     "execution_count": 67,
     "metadata": {},
     "output_type": "execute_result"
    }
   ],
   "source": [
    "sorted(list(tweet_clean.tweet_id)) == sorted(list(image_clean.tweet_id))  "
   ]
  },
  {
   "cell_type": "markdown",
   "metadata": {},
   "source": [
    "### Store the cleaned files"
   ]
  },
  {
   "cell_type": "code",
   "execution_count": 68,
   "metadata": {},
   "outputs": [],
   "source": [
    "tweet_clean.to_csv('tweet_clean.csv')\n",
    "image_clean.to_csv('image_clean.csv')"
   ]
  },
  {
   "cell_type": "code",
   "execution_count": 69,
   "metadata": {},
   "outputs": [],
   "source": [
    "twitter_archive_master = pd.merge(tweet_clean, image_clean, on = 'tweet_id')\n",
    "twitter_archive_master.to_csv('')"
   ]
  },
  {
   "cell_type": "markdown",
   "metadata": {},
   "source": [
    "<a id='analysis'></a>\n",
    "## Analysis and Visualization"
   ]
  },
  {
   "cell_type": "markdown",
   "metadata": {},
   "source": [
    "### Functions"
   ]
  },
  {
   "cell_type": "code",
   "execution_count": 72,
   "metadata": {},
   "outputs": [
    {
     "data": {
      "text/plain": [
       "(Timestamp('2015-11-15 22:32:08'), Timestamp('2017-08-01 16:23:56'))"
      ]
     },
     "execution_count": 72,
     "metadata": {},
     "output_type": "execute_result"
    }
   ],
   "source": [
    "tweet_clean.timestamp.min(), tweet_clean.timestamp.max()"
   ]
  },
  {
   "cell_type": "code",
   "execution_count": 73,
   "metadata": {},
   "outputs": [],
   "source": [
    "def favorite_over_time():\n",
    "    df = tweet_clean.copy()\n",
    "    q = df.favorite_count.quantile([0.05, 0.95])\n",
    "    df = df.drop(df[df.favorite_count < q[0.05]].index)\n",
    "    df = df.drop(df[df.favorite_count > q[0.95]].index)\n",
    "    \n",
    "    x = df.timestamp.dt.dayofyear + (df.timestamp.dt.year - 2015)*365-319\n",
    "    y = df.favorite_count\n",
    "    \n",
    "    plt.scatter(x,y);\n",
    "    plt.xlabel('Days Since First Tweet');\n",
    "    plt.ylabel('Favorite Count of Each Tweet')\n",
    "    plt.title('Favorite Count of Tweet Over Time')\n",
    "\n",
    "    z = np.polyfit(x,y,1)\n",
    "    f = np.poly1d(z)\n",
    "    plt.plot(x, f(x), 'r-');\n",
    "    equation = \"favorite = %.0f * days + %.0f\"%(z[0], z[1])\n",
    "\n",
    "    plt.text(660, 20000, equation, fontsize=12, color='red')"
   ]
  },
  {
   "cell_type": "code",
   "execution_count": 74,
   "metadata": {},
   "outputs": [],
   "source": [
    "def retweet_over_time():\n",
    "    df = tweet_clean.copy()\n",
    "    q = df.retweet_count.quantile([0.05, 0.95])\n",
    "    df = df.drop(df[df.retweet_count < q[0.05]].index)\n",
    "    df = df.drop(df[df.retweet_count > q[0.95]].index)\n",
    "    \n",
    "    x = df.timestamp.dt.dayofyear + (df.timestamp.dt.year - 2015)*365 - 319\n",
    "    y = df.retweet_count\n",
    "    \n",
    "    plt.scatter(x, y);\n",
    "    plt.xlabel('Days Since First Tweet')\n",
    "    plt.ylabel('Retweet Count of Each Tweet')\n",
    "    plt.title('Retweet Count Over Time')\n",
    "    \n",
    "    z = np.polyfit(x, y, 1)\n",
    "    f = np.poly1d(z)\n",
    "    plt.plot(x, f(x), 'r--');\n",
    "    equation = \"retweet = %.0f * days + %.0f\"%(z[0], z[1])\n",
    "    \n",
    "    plt.text(660, 4200, equation, fontsize=12, color='red')   "
   ]
  },
  {
   "cell_type": "code",
   "execution_count": 75,
   "metadata": {},
   "outputs": [],
   "source": [
    "def most_tweeted_breed():\n",
    "    df = image_clean.copy()\n",
    "    df = df.drop(df[df['breed'] == \"not_dog\"].index)\n",
    "    df = df.drop(df[df['breed'] == \"other_dog\"].index)\n",
    "    breed = df.breed.cat.remove_unused_categories().value_counts().sort_values()\n",
    "\n",
    "    x = breed.index\n",
    "    y = breed.values\n",
    "    \n",
    "    label = []\n",
    "    for item in x:\n",
    "        label.append(item.replace('_', ' '))\n",
    "\n",
    "    plt.bar(range(len(x)), y);\n",
    "    plt.xticks(range(len(x)), label, rotation=90);\n",
    "\n",
    "    plt.title('Most Tweet Dog Breeds')\n",
    "    plt.ylabel('Tweet Count')"
   ]
  },
  {
   "cell_type": "code",
   "execution_count": 76,
   "metadata": {},
   "outputs": [],
   "source": [
    "def image_with_rating_table():\n",
    "    df = pd.merge(image_clean[['tweet_id', 'breed']], \n",
    "                                     tweet_clean[['tweet_id', 'rating_numerator', 'favorite_count', 'retweet_count']],\n",
    "                                     on = 'tweet_id') \n",
    "    df = df.drop(df[df.breed == 'other_dog'].index)\n",
    "    df = df.drop(df[df.breed == 'not_dog'].index)\n",
    "    df.breed.cat.remove_unused_categories(inplace=True)\n",
    "    return df"
   ]
  },
  {
   "cell_type": "code",
   "execution_count": 77,
   "metadata": {},
   "outputs": [],
   "source": [
    "def breed_rating():\n",
    "    df = image_with_rating_table()\n",
    "    rating = df.groupby('breed').mean()['rating_numerator'].sort_values()\n",
    "    x = rating.index\n",
    "    y = rating.values\n",
    "\n",
    "    label = []\n",
    "    for item in x:\n",
    "        label.append(item.replace('_', ' '))\n",
    "\n",
    "    plt.bar(range(len(x)), y);\n",
    "    plt.xticks(range(len(x)), label, rotation=90);\n",
    "    plt.title('Top 10 Highly Rated Dog Breed')\n",
    "    plt.ylabel('Rating')"
   ]
  },
  {
   "cell_type": "code",
   "execution_count": 78,
   "metadata": {},
   "outputs": [],
   "source": [
    "def breed_favorite():     \n",
    "    df = image_with_rating_table()\n",
    "    rating = df.groupby('breed').mean()['favorite_count'].sort_values()\n",
    "    x = rating.index\n",
    "    y = rating.values\n",
    "\n",
    "    label = []\n",
    "    for item in x:\n",
    "        label.append(item.replace('_', ' '))\n",
    "\n",
    "    plt.bar(range(len(x)), y);\n",
    "    plt.xticks(range(len(x)), label, rotation=90);\n",
    "    plt.title('Top 10 Most Liked Dog Breeds')\n",
    "    plt.ylabel('Favorite Count ')"
   ]
  },
  {
   "cell_type": "code",
   "execution_count": 79,
   "metadata": {},
   "outputs": [],
   "source": [
    "def breed_retweet():     \n",
    "    df = image_with_rating_table()\n",
    "    rating = df.groupby('breed').mean()['retweet_count'].sort_values()\n",
    "    x = rating.index\n",
    "    y = rating.values\n",
    "\n",
    "    label = []\n",
    "    for item in x:\n",
    "        label.append(item.replace('_', ' '))\n",
    "\n",
    "    plt.bar(range(len(x)), y);\n",
    "    plt.xticks(range(len(x)), label, rotation=90);\n",
    "    plt.title('Top 10 Most Retweeted Dog Breeds')\n",
    "    plt.ylabel('Retweet Count ')"
   ]
  },
  {
   "cell_type": "markdown",
   "metadata": {},
   "source": [
    "### Visualization"
   ]
  },
  {
   "cell_type": "code",
   "execution_count": 80,
   "metadata": {},
   "outputs": [
    {
     "data": {
      "image/png": "[encoded data removed]",
      "text/plain": [
       "<matplotlib.figure.Figure at 0x7f9d4a17fdd8>"
      ]
     },
     "metadata": {
      "needs_background": "light"
     },
     "output_type": "display_data"
    }
   ],
   "source": [
    "favorite_over_time()"
   ]
  },
  {
   "cell_type": "markdown",
   "metadata": {},
   "source": [
    "<span style='color:blue'> *From the first tweet (2015-11-15) to the last one (2017-08-01), the number of likes that each tweet has increased as a rate of 31 per day.*  </span>"
   ]
  },
  {
   "cell_type": "code",
   "execution_count": 81,
   "metadata": {},
   "outputs": [
    {
     "data": {
      "image/png": "[encoded data removed]",
      "text/plain": [
       "<matplotlib.figure.Figure at 0x7f9d4a13e3c8>"
      ]
     },
     "metadata": {
      "needs_background": "light"
     },
     "output_type": "display_data"
    }
   ],
   "source": [
    "retweet_over_time()"
   ]
  },
  {
   "cell_type": "markdown",
   "metadata": {},
   "source": [
    "<span style='color:blue'> *From the first tweet (2015-11-15) to the last one (2017-08-01), the number of retweet that each tweet has increased as a rate of 6 per day.*  </span>"
   ]
  },
  {
   "cell_type": "code",
   "execution_count": 82,
   "metadata": {
    "scrolled": true
   },
   "outputs": [
    {
     "data": {
      "image/png": "[encoded data removed]",
      "text/plain": [
       "<matplotlib.figure.Figure at 0x7f9d4805c160>"
      ]
     },
     "metadata": {
      "needs_background": "light"
     },
     "output_type": "display_data"
    }
   ],
   "source": [
    "most_tweeted_breed()"
   ]
  },
  {
   "cell_type": "markdown",
   "metadata": {},
   "source": [
    "<span style='color:blue'> *The top ten most mentioned dog in the tweets are golden retriever, labrador retriever, pembroke, chihuahua, pug, toy poodle, chow, pomeranian, Samoyed, malamute (the time that has been mentioned from high to low).*  </span>"
   ]
  },
  {
   "cell_type": "code",
   "execution_count": 83,
   "metadata": {
    "scrolled": true
   },
   "outputs": [
    {
     "data": {
      "image/png": "[encoded data removed]",
      "text/plain": [
       "<matplotlib.figure.Figure at 0x7f9d4803d160>"
      ]
     },
     "metadata": {
      "needs_background": "light"
     },
     "output_type": "display_data"
    }
   ],
   "source": [
    "breed_rating()"
   ]
  },
  {
   "cell_type": "markdown",
   "metadata": {},
   "source": [
    "<span style='color:blue'> *Pomeranian, samoyed, golden retriever are the most highly rated dog breed.*  </span>"
   ]
  },
  {
   "cell_type": "code",
   "execution_count": 84,
   "metadata": {
    "scrolled": true
   },
   "outputs": [
    {
     "data": {
      "image/png": "[encoded data removed]",
      "text/plain": [
       "<matplotlib.figure.Figure at 0x7f9d47ffd550>"
      ]
     },
     "metadata": {
      "needs_background": "light"
     },
     "output_type": "display_data"
    }
   ],
   "source": [
    "breed_favorite()"
   ]
  },
  {
   "cell_type": "markdown",
   "metadata": {},
   "source": [
    "<span style='color:blue'> *Samoyed, goldern retriever and labrador retriever are the most liked dog breed.*  </span>"
   ]
  },
  {
   "cell_type": "code",
   "execution_count": 85,
   "metadata": {},
   "outputs": [
    {
     "data": {
      "image/png": "[encoded data removed]",
      "text/plain": [
       "<matplotlib.figure.Figure at 0x7f9d47f40898>"
      ]
     },
     "metadata": {
      "needs_background": "light"
     },
     "output_type": "display_data"
    }
   ],
   "source": [
    "breed_retweet()"
   ]
  },
  {
   "cell_type": "markdown",
   "metadata": {},
   "source": [
    "<span style='color:blue'> *Samoyed, labrador retriever, goldern retriever are the most retweeted dog breeds.* </span>"
   ]
  }
 ],
 "metadata": {
  "kernelspec": {
   "display_name": "Python 3",
   "language": "python",
   "name": "python3"
  },
  "language_info": {
   "codemirror_mode": {
    "name": "ipython",
    "version": 3
   },
   "file_extension": ".py",
   "mimetype": "text/x-python",
   "name": "python",
   "nbconvert_exporter": "python",
   "pygments_lexer": "ipython3",
   "version": "3.6.3"
  }
 },
 "nbformat": 4,
 "nbformat_minor": 2
}
