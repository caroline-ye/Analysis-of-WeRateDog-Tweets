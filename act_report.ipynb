{
 "cells": [
  {
   "cell_type": "markdown",
   "metadata": {},
   "source": [
    "# Analysis of WeRateDog Tweets\n",
    "\n",
    "## Introduction\n",
    "This project collected tweets information posted from Nov 15, 2015 to Aug 1, 2017 from a Twitter user @dog_rates, also known as WeRateDogs, which is an account that rates people's dogs with a humorous comment about the dog. I cleaned and did some simple analysis on the data to gain some insights about the dog rating. A neural network was also used to predict the breed of the dog from the posted image.\n",
    "\n",
    "## Results\n",
    "\n",
    "Figure 1 showed that the counts of likes and retweets of tweets increased over time. The number of likes that each tweet has increased as a rate of 31 per day since the first tweet posted on Nov 15, 2015 (Figure 1a). The number of retweets that each tweet has increased as a rate of 6 per day since the first tweet (Figure 1b).\n",
    "\n",
    "### Figure 1\n",
    "a. \n",
    "![favoriteovertime.png](favoriteovertime.png \"favoriteovertime.png\")\n",
    "\n",
    "\n"
   ]
  },
  {
   "cell_type": "markdown",
   "metadata": {},
   "source": [
    "b\n",
    "![retweetovertime.png](retweetovertime.png \"retweetovertime.png\")"
   ]
  },
  {
   "attachments": {},
   "cell_type": "markdown",
   "metadata": {},
   "source": [
    "Furthermore, the number of tweets that contain dog image was counted for each breed and ten most popular dog breeds were determined by the top ten highest number of tweets that have their images.  They are golden retriever, labrador retriever, pembroke, chihuahua, pug, toy poodle, chow, pomeranian, samoyed, malamute (ordered by the number of tweets from high to low) (Figure 2).\n",
    "\n",
    "### Figure 2\n",
    "![top10dog.png](top10dog.png \"top10dog.png\")"
   ]
  },
  {
   "cell_type": "markdown",
   "metadata": {},
   "source": [
    "Among the ten popular dog breed, samoyed and golden retriever are two highly rated breeds, and labrador retriever as followed given the high score in rating (Figure 3a), the number of likes (Figure 3b), and the number of retweets (Figure 3c)."
   ]
  },
  {
   "attachments": {},
   "cell_type": "markdown",
   "metadata": {},
   "source": [
    "### Figure 3\n",
    "a.\n",
    "![rating.png](rating.png \"rating.png\")"
   ]
  },
  {
   "attachments": {},
   "cell_type": "markdown",
   "metadata": {},
   "source": [
    "b.\n",
    "![likes.png](likes.png \"likes.png\")"
   ]
  },
  {
   "attachments": {},
   "cell_type": "markdown",
   "metadata": {},
   "source": [
    "c.\n",
    "![retweets.png](retweets.png \"retweet.png\")"
   ]
  }
 ],
 "metadata": {
  "kernelspec": {
   "display_name": "Python 3",
   "language": "python",
   "name": "python3"
  },
  "language_info": {
   "codemirror_mode": {
    "name": "ipython",
    "version": 3
   },
   "file_extension": ".py",
   "mimetype": "text/x-python",
   "name": "python",
   "nbconvert_exporter": "python",
   "pygments_lexer": "ipython3",
   "version": "3.6.3"
  }
 },
 "nbformat": 4,
 "nbformat_minor": 2
}
